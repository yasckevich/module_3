{
 "cells": [
  {
   "cell_type": "markdown",
   "metadata": {},
   "source": [
    "# import"
   ]
  },
  {
   "cell_type": "code",
   "execution_count": 2,
   "metadata": {
    "_cell_guid": "b1076dfc-b9ad-4769-8c92-a6c4dae69d19",
    "_uuid": "8f2839f25d086af736a60e9eeb907d3b93b6e0e5"
   },
   "outputs": [],
   "source": [
    "# This Python 3 environment comes with many helpful analytics libraries installed\n",
    "# It is defined by the kaggle/python docker image: https://github.com/kaggle/docker-python\n",
    "# For example, here's several helpful packages to load in \n",
    "\n",
    "import numpy as np # linear algebra\n",
    "import pandas as pd # data processing, CSV file I/O (e.g. pd.read_csv)\n",
    "\n",
    "import matplotlib.pyplot as plt\n",
    "import seaborn as sns \n",
    "%matplotlib inline\n",
    "\n",
    "# Загружаем специальный удобный инструмент для разделения датасета:\n",
    "from sklearn.model_selection import train_test_split\n",
    "\n",
    "# Input data files are available in the \"../input/\" directory.\n",
    "# For example, running this (by clicking run or pressing Shift+Enter) will list all files under the input directory\n",
    "\n",
    "import os\n",
    "for dirname, _, filenames in os.walk('/kaggle/input'):\n",
    "    for filename in filenames:\n",
    "        print(os.path.join(dirname, filename))\n",
    "        \n",
    "        \n",
    "# Any results you write to the current directory are saved as output."
   ]
  },
  {
   "cell_type": "code",
   "execution_count": 3,
   "metadata": {},
   "outputs": [],
   "source": [
    "# всегда фиксируйте RANDOM_SEED, чтобы ваши эксперименты были воспроизводимы!\n",
    "RANDOM_SEED = 42"
   ]
  },
  {
   "cell_type": "code",
   "execution_count": 4,
   "metadata": {},
   "outputs": [],
   "source": [
    "# зафиксируем версию пакетов, чтобы эксперименты были воспроизводимы:\n",
    "!pip freeze > requirements.txt"
   ]
  },
  {
   "cell_type": "markdown",
   "metadata": {},
   "source": [
    "# DATA"
   ]
  },
  {
   "cell_type": "code",
   "execution_count": 8,
   "metadata": {
    "_cell_guid": "79c7e3d0-c299-4dcb-8224-4455121ee9b0",
    "_uuid": "d629ff2d2480ee46fbb7e2d37f6b5fab8052498a"
   },
   "outputs": [],
   "source": [
    "#DATA_DIR = '/kaggle/input/sf-dst-restaurant-rating/'\n",
    "df_train = pd.read_csv('main_task.csv')\n",
    "df_test = pd.read_csv('kaggle_task.csv')\n",
    "sample_submission = pd.read_csv('sample_submission.csv')"
   ]
  },
  {
   "cell_type": "code",
   "execution_count": 9,
   "metadata": {},
   "outputs": [],
   "source": [
    "# ВАЖНО! дря корректной обработки признаков объединяем трейн и тест в один датасет\n",
    "df_train['sample'] = 1 # помечаем где у нас трейн\n",
    "df_test['sample'] = 0 # помечаем где у нас тест\n",
    "df_test['Rating'] = 0 # в тесте у нас нет значения Rating, мы его должны предсказать, по этому пока просто заполняем нулями\n",
    "\n",
    "data = df_test.append(df_train, sort=False).reset_index(drop=True) # объединяем"
   ]
  },
  {
   "cell_type": "markdown",
   "metadata": {},
   "source": [
    "**Немного изменим названия столбцов для удобства**"
   ]
  },
  {
   "cell_type": "code",
   "execution_count": 10,
   "metadata": {},
   "outputs": [],
   "source": [
    "col = ['Restaurant_id', 'City', 'Cuisine_Style', 'Ranking', 'Price_Range', 'Number_of_Reviews', 'Reviews', 'URL_TA', 'ID_TA','sample','Rating']\n",
    "data.columns = col"
   ]
  },
  {
   "cell_type": "code",
   "execution_count": 11,
   "metadata": {},
   "outputs": [
    {
     "name": "stdout",
     "output_type": "stream",
     "text": [
      "<class 'pandas.core.frame.DataFrame'>\n",
      "RangeIndex: 50000 entries, 0 to 49999\n",
      "Data columns (total 11 columns):\n",
      " #   Column             Non-Null Count  Dtype  \n",
      "---  ------             --------------  -----  \n",
      " 0   Restaurant_id      50000 non-null  object \n",
      " 1   City               50000 non-null  object \n",
      " 2   Cuisine_Style      38410 non-null  object \n",
      " 3   Ranking            50000 non-null  float64\n",
      " 4   Price_Range        32639 non-null  object \n",
      " 5   Number_of_Reviews  46800 non-null  float64\n",
      " 6   Reviews            49998 non-null  object \n",
      " 7   URL_TA             50000 non-null  object \n",
      " 8   ID_TA              50000 non-null  object \n",
      " 9   sample             50000 non-null  int64  \n",
      " 10  Rating             50000 non-null  float64\n",
      "dtypes: float64(3), int64(1), object(7)\n",
      "memory usage: 4.2+ MB\n"
     ]
    }
   ],
   "source": [
    "data.info(100000)"
   ]
  },
  {
   "cell_type": "code",
   "execution_count": 12,
   "metadata": {},
   "outputs": [
    {
     "data": {
      "text/html": [
       "<div>\n",
       "<style scoped>\n",
       "    .dataframe tbody tr th:only-of-type {\n",
       "        vertical-align: middle;\n",
       "    }\n",
       "\n",
       "    .dataframe tbody tr th {\n",
       "        vertical-align: top;\n",
       "    }\n",
       "\n",
       "    .dataframe thead th {\n",
       "        text-align: right;\n",
       "    }\n",
       "</style>\n",
       "<table border=\"1\" class=\"dataframe\">\n",
       "  <thead>\n",
       "    <tr style=\"text-align: right;\">\n",
       "      <th></th>\n",
       "      <th>Restaurant_id</th>\n",
       "      <th>City</th>\n",
       "      <th>Cuisine_Style</th>\n",
       "      <th>Ranking</th>\n",
       "      <th>Price_Range</th>\n",
       "      <th>Number_of_Reviews</th>\n",
       "      <th>Reviews</th>\n",
       "      <th>URL_TA</th>\n",
       "      <th>ID_TA</th>\n",
       "      <th>sample</th>\n",
       "      <th>Rating</th>\n",
       "    </tr>\n",
       "  </thead>\n",
       "  <tbody>\n",
       "    <tr>\n",
       "      <th>0</th>\n",
       "      <td>id_0</td>\n",
       "      <td>Paris</td>\n",
       "      <td>['Bar', 'Pub']</td>\n",
       "      <td>12963.0</td>\n",
       "      <td>$$ - $$$</td>\n",
       "      <td>4.0</td>\n",
       "      <td>[[], []]</td>\n",
       "      <td>/Restaurant_Review-g187147-d10746918-Reviews-L...</td>\n",
       "      <td>d10746918</td>\n",
       "      <td>0</td>\n",
       "      <td>0.0</td>\n",
       "    </tr>\n",
       "    <tr>\n",
       "      <th>1</th>\n",
       "      <td>id_1</td>\n",
       "      <td>Helsinki</td>\n",
       "      <td>['European', 'Scandinavian', 'Gluten Free Opti...</td>\n",
       "      <td>106.0</td>\n",
       "      <td>$$ - $$$</td>\n",
       "      <td>97.0</td>\n",
       "      <td>[['Very good reviews!', 'Fine dining in Hakani...</td>\n",
       "      <td>/Restaurant_Review-g189934-d6674944-Reviews-Ra...</td>\n",
       "      <td>d6674944</td>\n",
       "      <td>0</td>\n",
       "      <td>0.0</td>\n",
       "    </tr>\n",
       "    <tr>\n",
       "      <th>2</th>\n",
       "      <td>id_2</td>\n",
       "      <td>Edinburgh</td>\n",
       "      <td>['Vegetarian Friendly']</td>\n",
       "      <td>810.0</td>\n",
       "      <td>$$ - $$$</td>\n",
       "      <td>28.0</td>\n",
       "      <td>[['Better than the Links', 'Ivy Black'], ['12/...</td>\n",
       "      <td>/Restaurant_Review-g186525-d13129638-Reviews-B...</td>\n",
       "      <td>d13129638</td>\n",
       "      <td>0</td>\n",
       "      <td>0.0</td>\n",
       "    </tr>\n",
       "    <tr>\n",
       "      <th>3</th>\n",
       "      <td>id_3</td>\n",
       "      <td>London</td>\n",
       "      <td>['Italian', 'Mediterranean', 'European', 'Vege...</td>\n",
       "      <td>1669.0</td>\n",
       "      <td>$$$$</td>\n",
       "      <td>202.0</td>\n",
       "      <td>[['Most exquisite', 'Delicious and authentic']...</td>\n",
       "      <td>/Restaurant_Review-g186338-d680417-Reviews-Qui...</td>\n",
       "      <td>d680417</td>\n",
       "      <td>0</td>\n",
       "      <td>0.0</td>\n",
       "    </tr>\n",
       "    <tr>\n",
       "      <th>4</th>\n",
       "      <td>id_4</td>\n",
       "      <td>Bratislava</td>\n",
       "      <td>['Italian', 'Mediterranean', 'European', 'Seaf...</td>\n",
       "      <td>37.0</td>\n",
       "      <td>$$$$</td>\n",
       "      <td>162.0</td>\n",
       "      <td>[['Always the best in bratislava', 'Very good ...</td>\n",
       "      <td>/Restaurant_Review-g274924-d1112354-Reviews-Ma...</td>\n",
       "      <td>d1112354</td>\n",
       "      <td>0</td>\n",
       "      <td>0.0</td>\n",
       "    </tr>\n",
       "    <tr>\n",
       "      <th>...</th>\n",
       "      <td>...</td>\n",
       "      <td>...</td>\n",
       "      <td>...</td>\n",
       "      <td>...</td>\n",
       "      <td>...</td>\n",
       "      <td>...</td>\n",
       "      <td>...</td>\n",
       "      <td>...</td>\n",
       "      <td>...</td>\n",
       "      <td>...</td>\n",
       "      <td>...</td>\n",
       "    </tr>\n",
       "    <tr>\n",
       "      <th>49995</th>\n",
       "      <td>id_499</td>\n",
       "      <td>Milan</td>\n",
       "      <td>['Italian', 'Vegetarian Friendly', 'Vegan Opti...</td>\n",
       "      <td>500.0</td>\n",
       "      <td>$$ - $$$</td>\n",
       "      <td>79.0</td>\n",
       "      <td>[['The real Italian experience!', 'Wonderful f...</td>\n",
       "      <td>/Restaurant_Review-g187849-d2104414-Reviews-Ro...</td>\n",
       "      <td>d2104414</td>\n",
       "      <td>1</td>\n",
       "      <td>4.5</td>\n",
       "    </tr>\n",
       "    <tr>\n",
       "      <th>49996</th>\n",
       "      <td>id_6340</td>\n",
       "      <td>Paris</td>\n",
       "      <td>['French', 'American', 'Bar', 'European', 'Veg...</td>\n",
       "      <td>6341.0</td>\n",
       "      <td>$$ - $$$</td>\n",
       "      <td>542.0</td>\n",
       "      <td>[['Parisian atmosphere', 'Bit pricey but inter...</td>\n",
       "      <td>/Restaurant_Review-g187147-d1800036-Reviews-La...</td>\n",
       "      <td>d1800036</td>\n",
       "      <td>1</td>\n",
       "      <td>3.5</td>\n",
       "    </tr>\n",
       "    <tr>\n",
       "      <th>49997</th>\n",
       "      <td>id_1649</td>\n",
       "      <td>Stockholm</td>\n",
       "      <td>['Japanese', 'Sushi']</td>\n",
       "      <td>1652.0</td>\n",
       "      <td>NaN</td>\n",
       "      <td>4.0</td>\n",
       "      <td>[['Good by swedish standards', 'A hidden jewel...</td>\n",
       "      <td>/Restaurant_Review-g189852-d947615-Reviews-Sus...</td>\n",
       "      <td>d947615</td>\n",
       "      <td>1</td>\n",
       "      <td>4.5</td>\n",
       "    </tr>\n",
       "    <tr>\n",
       "      <th>49998</th>\n",
       "      <td>id_640</td>\n",
       "      <td>Warsaw</td>\n",
       "      <td>['Polish', 'European', 'Eastern European', 'Ce...</td>\n",
       "      <td>641.0</td>\n",
       "      <td>$$ - $$$</td>\n",
       "      <td>70.0</td>\n",
       "      <td>[['Underground restaurant', 'Oldest Restaurant...</td>\n",
       "      <td>/Restaurant_Review-g274856-d1100838-Reviews-Ho...</td>\n",
       "      <td>d1100838</td>\n",
       "      <td>1</td>\n",
       "      <td>4.0</td>\n",
       "    </tr>\n",
       "    <tr>\n",
       "      <th>49999</th>\n",
       "      <td>id_4824</td>\n",
       "      <td>Milan</td>\n",
       "      <td>['Spanish']</td>\n",
       "      <td>4827.0</td>\n",
       "      <td>$$ - $$$</td>\n",
       "      <td>260.0</td>\n",
       "      <td>[['Average', 'Nice an informal'], ['01/31/2016...</td>\n",
       "      <td>/Restaurant_Review-g187849-d1109020-Reviews-Ta...</td>\n",
       "      <td>d1109020</td>\n",
       "      <td>1</td>\n",
       "      <td>3.0</td>\n",
       "    </tr>\n",
       "  </tbody>\n",
       "</table>\n",
       "<p>50000 rows × 11 columns</p>\n",
       "</div>"
      ],
      "text/plain": [
       "      Restaurant_id        City  \\\n",
       "0              id_0       Paris   \n",
       "1              id_1    Helsinki   \n",
       "2              id_2   Edinburgh   \n",
       "3              id_3      London   \n",
       "4              id_4  Bratislava   \n",
       "...             ...         ...   \n",
       "49995        id_499       Milan   \n",
       "49996       id_6340       Paris   \n",
       "49997       id_1649   Stockholm   \n",
       "49998        id_640      Warsaw   \n",
       "49999       id_4824       Milan   \n",
       "\n",
       "                                           Cuisine_Style  Ranking Price_Range  \\\n",
       "0                                         ['Bar', 'Pub']  12963.0    $$ - $$$   \n",
       "1      ['European', 'Scandinavian', 'Gluten Free Opti...    106.0    $$ - $$$   \n",
       "2                                ['Vegetarian Friendly']    810.0    $$ - $$$   \n",
       "3      ['Italian', 'Mediterranean', 'European', 'Vege...   1669.0        $$$$   \n",
       "4      ['Italian', 'Mediterranean', 'European', 'Seaf...     37.0        $$$$   \n",
       "...                                                  ...      ...         ...   \n",
       "49995  ['Italian', 'Vegetarian Friendly', 'Vegan Opti...    500.0    $$ - $$$   \n",
       "49996  ['French', 'American', 'Bar', 'European', 'Veg...   6341.0    $$ - $$$   \n",
       "49997                              ['Japanese', 'Sushi']   1652.0         NaN   \n",
       "49998  ['Polish', 'European', 'Eastern European', 'Ce...    641.0    $$ - $$$   \n",
       "49999                                        ['Spanish']   4827.0    $$ - $$$   \n",
       "\n",
       "       Number_of_Reviews                                            Reviews  \\\n",
       "0                    4.0                                           [[], []]   \n",
       "1                   97.0  [['Very good reviews!', 'Fine dining in Hakani...   \n",
       "2                   28.0  [['Better than the Links', 'Ivy Black'], ['12/...   \n",
       "3                  202.0  [['Most exquisite', 'Delicious and authentic']...   \n",
       "4                  162.0  [['Always the best in bratislava', 'Very good ...   \n",
       "...                  ...                                                ...   \n",
       "49995               79.0  [['The real Italian experience!', 'Wonderful f...   \n",
       "49996              542.0  [['Parisian atmosphere', 'Bit pricey but inter...   \n",
       "49997                4.0  [['Good by swedish standards', 'A hidden jewel...   \n",
       "49998               70.0  [['Underground restaurant', 'Oldest Restaurant...   \n",
       "49999              260.0  [['Average', 'Nice an informal'], ['01/31/2016...   \n",
       "\n",
       "                                                  URL_TA      ID_TA  sample  \\\n",
       "0      /Restaurant_Review-g187147-d10746918-Reviews-L...  d10746918       0   \n",
       "1      /Restaurant_Review-g189934-d6674944-Reviews-Ra...   d6674944       0   \n",
       "2      /Restaurant_Review-g186525-d13129638-Reviews-B...  d13129638       0   \n",
       "3      /Restaurant_Review-g186338-d680417-Reviews-Qui...    d680417       0   \n",
       "4      /Restaurant_Review-g274924-d1112354-Reviews-Ma...   d1112354       0   \n",
       "...                                                  ...        ...     ...   \n",
       "49995  /Restaurant_Review-g187849-d2104414-Reviews-Ro...   d2104414       1   \n",
       "49996  /Restaurant_Review-g187147-d1800036-Reviews-La...   d1800036       1   \n",
       "49997  /Restaurant_Review-g189852-d947615-Reviews-Sus...    d947615       1   \n",
       "49998  /Restaurant_Review-g274856-d1100838-Reviews-Ho...   d1100838       1   \n",
       "49999  /Restaurant_Review-g187849-d1109020-Reviews-Ta...   d1109020       1   \n",
       "\n",
       "       Rating  \n",
       "0         0.0  \n",
       "1         0.0  \n",
       "2         0.0  \n",
       "3         0.0  \n",
       "4         0.0  \n",
       "...       ...  \n",
       "49995     4.5  \n",
       "49996     3.5  \n",
       "49997     4.5  \n",
       "49998     4.0  \n",
       "49999     3.0  \n",
       "\n",
       "[50000 rows x 11 columns]"
      ]
     },
     "execution_count": 12,
     "metadata": {},
     "output_type": "execute_result"
    }
   ],
   "source": [
    "data"
   ]
  },
  {
   "cell_type": "markdown",
   "metadata": {},
   "source": [
    "# Cleaning and Prepping Data"
   ]
  },
  {
   "cell_type": "markdown",
   "metadata": {},
   "source": [
    "**Проверяем столбец с Restaurant_id (идентификационный номер ресторана / сети ресторанов)**"
   ]
  },
  {
   "cell_type": "code",
   "execution_count": 13,
   "metadata": {},
   "outputs": [
    {
     "name": "stdout",
     "output_type": "stream",
     "text": [
      "count      50000\n",
      "unique     13094\n",
      "top       id_633\n",
      "freq          19\n",
      "Name: Restaurant_id, dtype: object\n",
      " \n",
      "50000\n",
      "<class 'numpy.int64'>\n"
     ]
    }
   ],
   "source": [
    "data.Restaurant_id.value_counts()\n",
    "# пропусков нет, все ок\n",
    "\n",
    "print(data.Restaurant_id.describe())\n",
    "# по условию - в одному id  могут быть прикреплены несколько ресторанов одной сети,\n",
    "# поэтому уникальных значений меньше чем записей\n",
    "\n",
    "data.Restaurant_id = [i[3:] for i in data.Restaurant_id]\n",
    "data.Restaurant_id = [int(i) for i in data.Restaurant_id]\n",
    "\n",
    "print(' ')\n",
    "print(len(data.Restaurant_id))\n",
    "print(type(data.Restaurant_id[1]))\n",
    "\n",
    "# превратили столбец в численное выражение"
   ]
  },
  {
   "cell_type": "markdown",
   "metadata": {},
   "source": [
    "**Добавляем обозначение сетевых магазинов**"
   ]
  },
  {
   "cell_type": "code",
   "execution_count": 14,
   "metadata": {},
   "outputs": [],
   "source": [
    "a=data.Restaurant_id.value_counts()\n",
    "a=dict(a)\n",
    "a=pd.DataFrame({'count':a}, columns=['count'])\n",
    "\n",
    "A=a.index\n",
    "B=a.values\n",
    "\n",
    "data['chain']= data['Restaurant_id'].replace(A, B)"
   ]
  },
  {
   "cell_type": "markdown",
   "metadata": {},
   "source": [
    "**Проверяем столбец с City (город, в котором находится ресторан)**"
   ]
  },
  {
   "cell_type": "code",
   "execution_count": 15,
   "metadata": {},
   "outputs": [
    {
     "name": "stdout",
     "output_type": "stream",
     "text": [
      "count      50000\n",
      "unique        31\n",
      "top       London\n",
      "freq        7193\n",
      "Name: City, dtype: object\n",
      " \n",
      "50000\n",
      "<class 'numpy.int64'>\n"
     ]
    }
   ],
   "source": [
    "data.City.value_counts()\n",
    "# пропусков нет, города не повторяются, проблем с ракладкой или регистром нет, все ок\n",
    "\n",
    "print(data.City.describe())\n",
    "\n",
    "A = list(data.City.value_counts().keys())\n",
    "B = range(0, len(A))\n",
    "dict_city = dict(zip(A, B))\n",
    "# словарь со значениями городов\n",
    "\n",
    "data['City_ind'] = data['City'].replace(A, B)\n",
    "\n",
    "print(' ')\n",
    "print(len(data.City_ind))\n",
    "print(type(data.City_ind[1]))\n",
    "\n",
    "# аномалий нет + мы заменили города на числовые индефикаторы"
   ]
  },
  {
   "cell_type": "markdown",
   "metadata": {},
   "source": [
    "Сделаем \"нормализацию\" значения рейтинга по городам"
   ]
  },
  {
   "cell_type": "code",
   "execution_count": 16,
   "metadata": {},
   "outputs": [
    {
     "data": {
      "text/plain": [
       "count    50000.000000\n",
       "mean         0.498423\n",
       "std          0.287871\n",
       "min          0.000061\n",
       "25%          0.249061\n",
       "50%          0.496908\n",
       "75%          0.747353\n",
       "max          1.000000\n",
       "Name: Std_ranking, dtype: float64"
      ]
     },
     "execution_count": 16,
     "metadata": {},
     "output_type": "execute_result"
    }
   ],
   "source": [
    "A = list(data.City.value_counts().keys())\n",
    "data1=pd.DataFrame()\n",
    "data1['City'] = data['City']\n",
    "data1['Ranking']=data['Ranking']\n",
    "data1=pd.DataFrame(data1.groupby(['City']).max())\n",
    "data2=data1['Ranking']\n",
    "A=list(data2.keys())\n",
    "B=list(data2)\n",
    "\n",
    "data['Len_rest_in_city'] = data['City'].replace(A, B)\n",
    "\n",
    "data['Std_ranking']=data['Ranking']/data['Len_rest_in_city']\n",
    "\n",
    "data.Std_ranking.describe()"
   ]
  },
  {
   "cell_type": "markdown",
   "metadata": {},
   "source": [
    "**Добавим столбец Residents (кол-во жителей в каждом городе)**"
   ]
  },
  {
   "cell_type": "code",
   "execution_count": 17,
   "metadata": {},
   "outputs": [
    {
     "name": "stdout",
     "output_type": "stream",
     "text": [
      "50000\n",
      "<class 'numpy.int64'>\n"
     ]
    }
   ],
   "source": [
    "B = [8961989, 2148271, 3266126, 1636762, 3769495, 1397852, 4110000, 1324277, 506654, 1888776, 860124,\n",
    "     179277, 1899160, 1471508, 481181, 975904, 1752286, 1790658, 1173179, 794128, 664046, 513210, 424008,\n",
    "     237591, 201818, 779115, 693491, 643272, 432862, 626108, 295504]\n",
    "dict_res = dict(zip(A, B))\n",
    "# словарь со кол-вом жителей\n",
    "\n",
    "data['Residents'] = data['City'].replace(A, B)\n",
    "\n",
    "print(len(data.Residents))\n",
    "print(type(data.Residents[1]))"
   ]
  },
  {
   "cell_type": "markdown",
   "metadata": {},
   "source": [
    "**Добавим столбец Country (страна)**"
   ]
  },
  {
   "cell_type": "code",
   "execution_count": 18,
   "metadata": {},
   "outputs": [
    {
     "name": "stdout",
     "output_type": "stream",
     "text": [
      "50000\n",
      "<class 'numpy.int64'>\n"
     ]
    }
   ],
   "source": [
    "data['Country'] = data.City\n",
    "data['Country'] = data['Country'].replace('London', 'GreatBritain')\n",
    "data['Country'] = data['Country'].replace('Paris', 'France')\n",
    "data['Country'] = data['Country'].replace('Madrid', 'Spain')\n",
    "data['Country'] = data['Country'].replace('Barcelona', 'Spain')\n",
    "data['Country'] = data['Country'].replace('Berlin', 'Germany')\n",
    "data['Country'] = data['Country'].replace('Milan', 'Italy')\n",
    "data['Country'] = data['Country'].replace('Rome', 'Italy')\n",
    "data['Country'] = data['Country'].replace('Prague', 'CzechRepublic')\n",
    "data['Country'] = data['Country'].replace('Lisbon', 'Portugal')\n",
    "data['Country'] = data['Country'].replace('Vienna', 'Austria')\n",
    "data['Country'] = data['Country'].replace('Amsterdam', 'Netherlands')\n",
    "data['Country'] = data['Country'].replace('Brussels', 'Belgium')\n",
    "data['Country'] = data['Country'].replace('Hamburg', 'Germany')\n",
    "data['Country'] = data['Country'].replace('Munich', 'Germany')\n",
    "data['Country'] = data['Country'].replace('Lyon', 'France')\n",
    "data['Country'] = data['Country'].replace('Stockholm', 'Sweden')\n",
    "data['Country'] = data['Country'].replace('Budapest', 'Hungary')\n",
    "data['Country'] = data['Country'].replace('Warsaw', 'Poland')\n",
    "data['Country'] = data['Country'].replace('Dublin', 'Irland')\n",
    "data['Country'] = data['Country'].replace('Copenhagen', 'Denmark')\n",
    "data['Country'] = data['Country'].replace('Athens', 'Greece')\n",
    "data['Country'] = data['Country'].replace('Edinburgh', 'Scotland')\n",
    "data['Country'] = data['Country'].replace('Zurich', 'Switzeland')\n",
    "data['Country'] = data['Country'].replace('Oporto', 'Portugal')\n",
    "data['Country'] = data['Country'].replace('Geneva', 'Switzeland')\n",
    "data['Country'] = data['Country'].replace('Krakow', 'Poland')\n",
    "data['Country'] = data['Country'].replace('Oslo', 'Norway')\n",
    "data['Country'] = data['Country'].replace('Helsinki', 'Finland')\n",
    "data['Country'] = data['Country'].replace('Bratislava', 'Slovakia')\n",
    "data['Country'] = data['Country'].replace('Luxembourg', 'Luxembourg')\n",
    "data['Country'] = data['Country'].replace('Ljubljana', 'Slovenia')\n",
    "\n",
    "A = list(data.Country.value_counts().keys())\n",
    "B = range(0, len(A))\n",
    "dict_country = dict(zip(A, B))\n",
    "# словарь со значениями стран\n",
    "\n",
    "\n",
    "data['Country_ind'] = data['Country'].replace(A, B)\n",
    "\n",
    "print(len(data.Country_ind))\n",
    "print(type(data.Country_ind[1]))"
   ]
  },
  {
   "cell_type": "markdown",
   "metadata": {},
   "source": [
    "**Добавим столбик с отношением кол-ва отзывов к населению (как часто пишут их)**"
   ]
  },
  {
   "cell_type": "code",
   "execution_count": 19,
   "metadata": {},
   "outputs": [
    {
     "name": "stdout",
     "output_type": "stream",
     "text": [
      "50000\n",
      "<class 'numpy.float64'>\n"
     ]
    }
   ],
   "source": [
    "data['Rew_of'] = data['Number_of_Reviews']/data['Residents']\n",
    "data['Rew_of'] = data['Rew_of'].fillna(0)\n",
    "\n",
    "\n",
    "\n",
    "print(len(data.Rew_of))\n",
    "print(type(data.Rew_of[1]))"
   ]
  },
  {
   "cell_type": "markdown",
   "metadata": {},
   "source": [
    "**Проверяем столбец с Cuisine_Style (кухня или кухни, к которым можно отнести блюда, предлагаемые в ресторане)**"
   ]
  },
  {
   "cell_type": "code",
   "execution_count": 20,
   "metadata": {},
   "outputs": [
    {
     "data": {
      "text/plain": [
       "50000"
      ]
     },
     "execution_count": 20,
     "metadata": {},
     "output_type": "execute_result"
    }
   ],
   "source": [
    "data['Cuisine_Style'] = data['Cuisine_Style'].fillna('\"\"No_info\"')\n",
    "# заменяем пропуски\n",
    "\n",
    "new = pd.DataFrame(data.Cuisine_Style.dropna())\n",
    "a = list(new.Cuisine_Style)\n",
    "b = list()\n",
    "\n",
    "def l(x):\n",
    "    i = 0\n",
    "    for g in x:\n",
    "        f = x[i].split(',')\n",
    "        v = 0\n",
    "        for g in f:\n",
    "            h = f[v][2:-1].replace(\"'\", '')\n",
    "            v = +1\n",
    "            b.append(h)\n",
    "        i += 1\n",
    "        \n",
    "l(a)\n",
    "\n",
    "from collections import Counter\n",
    "\n",
    "coun=Counter(b)\n",
    "coun=dict(coun)\n",
    "coun=pd.DataFrame({'count':coun}, columns=['count'])\n",
    "a=coun['count'].mean()\n",
    "\n",
    "b=list(coun.query('count > @a').index)\n",
    "b\n",
    "\n",
    "#оставляем только самые популярные кухни\n",
    "\n",
    "def find_item(cell):\n",
    "    if item in cell:\n",
    "        return 1\n",
    "    return 0\n",
    "\n",
    "\n",
    "for item in b:\n",
    "    data[item] = data['Cuisine_Style'].apply(find_item)\n",
    "\n",
    "data['Cuisine_Style'] = data['Cuisine_Style'].apply(lambda x: len(x))\n",
    "\n",
    "len(data['Cuisine_Style'])\n",
    "# пропуски заменены, строки преобразованы в столбцы"
   ]
  },
  {
   "cell_type": "markdown",
   "metadata": {},
   "source": [
    "**Проверяем столбец с Price_Range (диапазон цен в ресторане)**"
   ]
  },
  {
   "cell_type": "code",
   "execution_count": 21,
   "metadata": {},
   "outputs": [
    {
     "name": "stdout",
     "output_type": "stream",
     "text": [
      "count        32639\n",
      "unique           3\n",
      "top       $$ - $$$\n",
      "freq         23041\n",
      "Name: Price_Range, dtype: object\n",
      "\n",
      "50000\n",
      "<class 'numpy.float64'>\n"
     ]
    }
   ],
   "source": [
    "print(data.Price_Range.describe())\n",
    "\n",
    "data['Price_Range'] = data['Price_Range'].replace('$', 1)\n",
    "data['Price_Range'] = data['Price_Range'].replace('$$ - $$$', 2)\n",
    "data['Price_Range'] = data['Price_Range'].replace('$$$$', 3)\n",
    "\n",
    "a = data['Price_Range'].mean()\n",
    "a = int(a)\n",
    "data['Price_Range'] = data['Price_Range'].fillna(a)\n",
    "\n",
    "print('')\n",
    "print(len(data.Price_Range))\n",
    "print(type(data.Price_Range[1]))\n",
    "# заменили буквенные индефикаторы на численные"
   ]
  },
  {
   "cell_type": "markdown",
   "metadata": {},
   "source": [
    "**Проверяем столбец с Reviews (данные о двух отзывах, которые отображаются на сайте ресторана)**"
   ]
  },
  {
   "cell_type": "code",
   "execution_count": 22,
   "metadata": {},
   "outputs": [
    {
     "name": "stdout",
     "output_type": "stream",
     "text": [
      "count        49998\n",
      "unique       41857\n",
      "top       [[], []]\n",
      "freq          8112\n",
      "Name: Reviews, dtype: object\n"
     ]
    },
    {
     "name": "stderr",
     "output_type": "stream",
     "text": [
      "/Users/yasckevich/opt/anaconda3/lib/python3.7/site-packages/ipykernel_launcher.py:14: SettingWithCopyWarning: \n",
      "A value is trying to be set on a copy of a slice from a DataFrame\n",
      "\n",
      "See the caveats in the documentation: https://pandas.pydata.org/pandas-docs/stable/user_guide/indexing.html#returning-a-view-versus-a-copy\n",
      "  \n"
     ]
    },
    {
     "name": "stdout",
     "output_type": "stream",
     "text": [
      "\n",
      "50000\n",
      "<class 'numpy.float64'>\n"
     ]
    }
   ],
   "source": [
    "print(data.Reviews.describe())\n",
    "\n",
    "from datetime import datetime, date, time\n",
    "data['Reviews'] = data.Reviews.replace(\"[[], []]\", 'No_info')\n",
    "# заменяем пропуски\n",
    "\n",
    "data['Last_rew'] = data['Reviews']\n",
    "\n",
    "data['Last_rew']=data['Last_rew'].str[-27:-17]\n",
    "\n",
    "now = datetime.now()\n",
    "\n",
    "#base['Last_rew'][base.Last_rew.str.contains(\"]\")]=now\n",
    "data['Last_rew'][data.Last_rew.str.contains(\"]\")==True] = now\n",
    "data['Last_rew'] = data['Last_rew'].fillna(now)\n",
    "\n",
    "# приравниваем строки без даты к сегодня\n",
    "\n",
    "data['Last_rew'] = [pd.to_datetime(i) for i in data.Last_rew]\n",
    "\n",
    "# добавляем сколько прошло времени с момента последнего отзыва\n",
    "\n",
    "data['Last_rew_data'] = data['Last_rew']-now\n",
    "data['Last_rew_data'] = [i.total_seconds() for i in data.Last_rew_data]\n",
    "data['Last_rew_data'] = data['Last_rew_data']\n",
    "data['Last_rew_data'] = data['Last_rew_data'].fillna(0)\n",
    "\n",
    "\n",
    "\n",
    "print('')\n",
    "print(len(data.Last_rew_data))\n",
    "print(type(data.Last_rew_data[1]))"
   ]
  },
  {
   "cell_type": "markdown",
   "metadata": {},
   "source": [
    "**Проверяем столбец с Number_of_Reviews (количество отзывов о ресторане)**"
   ]
  },
  {
   "cell_type": "code",
   "execution_count": 23,
   "metadata": {},
   "outputs": [
    {
     "name": "stdout",
     "output_type": "stream",
     "text": [
      "count    46800.000000\n",
      "mean       124.471197\n",
      "std        294.114345\n",
      "min          2.000000\n",
      "25%          9.000000\n",
      "50%         33.000000\n",
      "75%        115.000000\n",
      "max       9660.000000\n",
      "Name: Number_of_Reviews, dtype: float64\n",
      "\n",
      "50000\n",
      "<class 'numpy.float64'>\n"
     ]
    },
    {
     "name": "stderr",
     "output_type": "stream",
     "text": [
      "/Users/yasckevich/opt/anaconda3/lib/python3.7/site-packages/ipykernel_launcher.py:16: SettingWithCopyWarning: \n",
      "A value is trying to be set on a copy of a slice from a DataFrame\n",
      "\n",
      "See the caveats in the documentation: https://pandas.pydata.org/pandas-docs/stable/user_guide/indexing.html#returning-a-view-versus-a-copy\n",
      "  app.launch_new_instance()\n"
     ]
    }
   ],
   "source": [
    "from datetime import datetime, date, time\n",
    "\n",
    "m=data['Number_of_Reviews'].mean()\n",
    "\n",
    "print(data['Number_of_Reviews'].describe())\n",
    "# отрицательных чисел нет\n",
    "\n",
    "data['Number_of_Reviews'].value_counts()\n",
    "# но есть пропуски, нужно проверить, что где есть пропуски - там действительно нет отзывов\n",
    "\n",
    "data['Number_of_Reviews'] = data['Number_of_Reviews'].fillna('No_info')\n",
    "# меняем пропуски на Not_info\n",
    "\n",
    "a = data.query('Reviews == \"No_info\" & Number_of_Reviews == \"No_info\"')\n",
    "b = list(a.index)\n",
    "data['Number_of_Reviews'][b] = 0\n",
    "# где нет значения кол-ва отзывов и превью отзывов - ставим 0\n",
    "\n",
    "len(data['Number_of_Reviews'])\n",
    "# заменили предполагаемые пропуски, в некоторые смогли подставить значения. С 2,5+ тысяч снизили пропуски до 900+\n",
    "\n",
    "data['Number_of_Reviews'] = data['Price_Range'].replace('No_info', m)\n",
    "\n",
    "# пропуски, которые не смогли заполнить, заполняем средним значением\n",
    "\n",
    "#data.Number_of_Reviews = [float(i) for i in data.Number_of_Reviews]\n",
    "\n",
    "print('')\n",
    "print(len(data.Number_of_Reviews))\n",
    "print(type(data.Number_of_Reviews[1]))"
   ]
  },
  {
   "cell_type": "markdown",
   "metadata": {},
   "source": [
    "**Добавляем столбик с отношением кол-ва отзывов по одному ресторану к общему кол-ву отзывов по городу**"
   ]
  },
  {
   "cell_type": "code",
   "execution_count": 24,
   "metadata": {},
   "outputs": [],
   "source": [
    "A = list(data.City.value_counts().keys())\n",
    "data1=pd.DataFrame()\n",
    "data1['City'] = data['City']\n",
    "data1['Number_of_Reviews']=data['Number_of_Reviews']\n",
    "\n",
    "data1=pd.DataFrame(data1.groupby(['City']).sum())\n",
    "data2=data1['Number_of_Reviews']\n",
    "A=list(data2.keys())\n",
    "B=list(data2)\n",
    "\n",
    "\n",
    "\n",
    "data['Len_rew'] = data['City'].replace(A, B)\n",
    "\n",
    "data['Std_num_rew']=data['Number_of_Reviews']/data['Len_rew']"
   ]
  },
  {
   "cell_type": "markdown",
   "metadata": {},
   "source": [
    "**проверяем м столбец с ID_TA (идентификатор ресторана в базе данных TripAdvisor)**"
   ]
  },
  {
   "cell_type": "code",
   "execution_count": 25,
   "metadata": {},
   "outputs": [
    {
     "name": "stdout",
     "output_type": "stream",
     "text": [
      "count        50000\n",
      "unique       49963\n",
      "top       d2360290\n",
      "freq             2\n",
      "Name: ID_TA, dtype: object\n",
      "\n",
      "50000\n",
      "<class 'numpy.float64'>\n"
     ]
    }
   ],
   "source": [
    "print(data['ID_TA'].describe())\n",
    "\n",
    "data['ID_TA']=data['ID_TA'].str[1:]\n",
    "data.ID_TA = [float(i) for i in data.ID_TA]\n",
    "\n",
    "print('')\n",
    "print(len(data.ID_TA))\n",
    "print(type(data.ID_TA[1]))"
   ]
  },
  {
   "cell_type": "code",
   "execution_count": 26,
   "metadata": {},
   "outputs": [
    {
     "data": {
      "text/plain": [
       "<matplotlib.axes._subplots.AxesSubplot at 0x1a1b85ae50>"
      ]
     },
     "execution_count": 26,
     "metadata": {},
     "output_type": "execute_result"
    },
    {
     "data": {
      "image/png": "[encoded data removed]",
      "text/plain": [
       "<Figure size 720x504 with 1 Axes>"
      ]
     },
     "metadata": {
      "needs_background": "light"
     },
     "output_type": "display_data"
    }
   ],
   "source": [
    "plt.rcParams['figure.figsize'] = (10,7)\n",
    "df_train['Ranking'].hist(bins=100)"
   ]
  },
  {
   "cell_type": "code",
   "execution_count": 27,
   "metadata": {},
   "outputs": [
    {
     "data": {
      "text/plain": [
       "<matplotlib.axes._subplots.AxesSubplot at 0x1a1bc00550>"
      ]
     },
     "execution_count": 27,
     "metadata": {},
     "output_type": "execute_result"
    },
    {
     "data": {
      "image/png": "[encoded data removed]",
      "text/plain": [
       "<Figure size 720x504 with 1 Axes>"
      ]
     },
     "metadata": {
      "needs_background": "light"
     },
     "output_type": "display_data"
    }
   ],
   "source": [
    "df_train['City'].value_counts(ascending=True).plot(kind='barh')"
   ]
  },
  {
   "cell_type": "code",
   "execution_count": 28,
   "metadata": {},
   "outputs": [
    {
     "data": {
      "text/plain": [
       "<matplotlib.axes._subplots.AxesSubplot at 0x1a1b7ca4d0>"
      ]
     },
     "execution_count": 28,
     "metadata": {},
     "output_type": "execute_result"
    },
    {
     "data": {
      "image/png": "[encoded data removed]",
      "text/plain": [
       "<Figure size 720x504 with 1 Axes>"
      ]
     },
     "metadata": {
      "needs_background": "light"
     },
     "output_type": "display_data"
    }
   ],
   "source": [
    "df_train['Ranking'][df_train['City'] =='London'].hist(bins=100)"
   ]
  },
  {
   "cell_type": "code",
   "execution_count": 29,
   "metadata": {},
   "outputs": [
    {
     "data": {
      "image/png": "[encoded data removed]",
      "text/plain": [
       "<Figure size 720x504 with 1 Axes>"
      ]
     },
     "metadata": {
      "needs_background": "light"
     },
     "output_type": "display_data"
    }
   ],
   "source": [
    "# посмотрим на топ 10 городов\n",
    "for x in (df_train['City'].value_counts())[0:10].index:\n",
    "    df_train['Ranking'][df_train['City'] == x].hist(bins=100)\n",
    "plt.show()"
   ]
  },
  {
   "cell_type": "markdown",
   "metadata": {},
   "source": [
    "### Посмотрим распределение целевой переменной"
   ]
  },
  {
   "cell_type": "code",
   "execution_count": 30,
   "metadata": {},
   "outputs": [
    {
     "data": {
      "text/plain": [
       "<matplotlib.axes._subplots.AxesSubplot at 0x1a1cc00610>"
      ]
     },
     "execution_count": 30,
     "metadata": {},
     "output_type": "execute_result"
    },
    {
     "data": {
      "image/png": "[encoded data removed]",
      "text/plain": [
       "<Figure size 720x504 with 1 Axes>"
      ]
     },
     "metadata": {
      "needs_background": "light"
     },
     "output_type": "display_data"
    }
   ],
   "source": [
    "df_train['Rating'].value_counts(ascending=True).plot(kind='barh')"
   ]
  },
  {
   "cell_type": "markdown",
   "metadata": {},
   "source": [
    "### Посмотрим распределение целевой переменной относительно признака"
   ]
  },
  {
   "cell_type": "code",
   "execution_count": 31,
   "metadata": {},
   "outputs": [
    {
     "data": {
      "text/plain": [
       "<matplotlib.axes._subplots.AxesSubplot at 0x1a1cdc23d0>"
      ]
     },
     "execution_count": 31,
     "metadata": {},
     "output_type": "execute_result"
    },
    {
     "data": {
      "image/png": "[encoded data removed]",
      "text/plain": [
       "<Figure size 720x504 with 1 Axes>"
      ]
     },
     "metadata": {
      "needs_background": "light"
     },
     "output_type": "display_data"
    }
   ],
   "source": [
    "df_train['Ranking'][df_train['Rating'] == 5].hist(bins=100)"
   ]
  },
  {
   "cell_type": "code",
   "execution_count": 32,
   "metadata": {},
   "outputs": [
    {
     "data": {
      "text/plain": [
       "<matplotlib.axes._subplots.AxesSubplot at 0x1a1d4059d0>"
      ]
     },
     "execution_count": 32,
     "metadata": {},
     "output_type": "execute_result"
    },
    {
     "data": {
      "image/png": "[encoded data removed]",
      "text/plain": [
       "<Figure size 720x504 with 1 Axes>"
      ]
     },
     "metadata": {
      "needs_background": "light"
     },
     "output_type": "display_data"
    }
   ],
   "source": [
    "df_train['Ranking'][df_train['Rating'] < 4].hist(bins=100)"
   ]
  },
  {
   "cell_type": "code",
   "execution_count": 33,
   "metadata": {},
   "outputs": [
    {
     "data": {
      "text/plain": [
       "<matplotlib.axes._subplots.AxesSubplot at 0x1a191f75d0>"
      ]
     },
     "execution_count": 33,
     "metadata": {},
     "output_type": "execute_result"
    },
    {
     "data": {
      "image/png": "[encoded data removed]",
      "text/plain": [
       "<Figure size 1080x720 with 2 Axes>"
      ]
     },
     "metadata": {
      "needs_background": "light"
     },
     "output_type": "display_data"
    }
   ],
   "source": [
    "plt.rcParams['figure.figsize'] = (15,10)\n",
    "sns.heatmap(data[col].drop(['sample'], axis=1).corr(),)"
   ]
  },
  {
   "cell_type": "markdown",
   "metadata": {},
   "source": [
    "# Data Preprocessing"
   ]
  },
  {
   "cell_type": "markdown",
   "metadata": {},
   "source": [
    "**Удалим все ненужные или неполезные столбики, которые портят нам результат**"
   ]
  },
  {
   "cell_type": "code",
   "execution_count": 34,
   "metadata": {},
   "outputs": [],
   "source": [
    "data = data.drop('URL_TA', axis=1)\n",
    "data = data.drop('Reviews', axis=1)\n",
    "data = data.drop('Last_rew', axis=1)\n",
    "data = data.drop('City', axis=1)\n",
    "data = data.drop('Country', axis=1)\n",
    "data = data.drop('Restaurant_id', axis=1)"
   ]
  },
  {
   "cell_type": "code",
   "execution_count": 35,
   "metadata": {},
   "outputs": [],
   "source": [
    "#data = data.drop('Len_rest_in_city', axis=1)"
   ]
  },
  {
   "cell_type": "code",
   "execution_count": 36,
   "metadata": {},
   "outputs": [],
   "source": [
    "data = data.drop('chain', axis=1)"
   ]
  },
  {
   "cell_type": "code",
   "execution_count": 37,
   "metadata": {},
   "outputs": [],
   "source": [
    "data = data.drop('Cuisine_Style', axis=1)"
   ]
  },
  {
   "cell_type": "code",
   "execution_count": 38,
   "metadata": {},
   "outputs": [
    {
     "data": {
      "text/plain": [
       "<matplotlib.axes._subplots.AxesSubplot at 0x1a1af1f850>"
      ]
     },
     "execution_count": 38,
     "metadata": {},
     "output_type": "execute_result"
    },
    {
     "data": {
      "image/png": "[encoded data removed]",
      "text/plain": [
       "<Figure size 1080x720 with 2 Axes>"
      ]
     },
     "metadata": {
      "needs_background": "light"
     },
     "output_type": "display_data"
    }
   ],
   "source": [
    "plt.rcParams['figure.figsize'] = (15,10)\n",
    "sns.heatmap(data.drop(['sample'], axis=1).corr(),)"
   ]
  },
  {
   "cell_type": "code",
   "execution_count": 39,
   "metadata": {},
   "outputs": [
    {
     "name": "stdout",
     "output_type": "stream",
     "text": [
      "<class 'pandas.core.frame.DataFrame'>\n",
      "RangeIndex: 50000 entries, 0 to 49999\n",
      "Data columns (total 37 columns):\n",
      " #   Column               Non-Null Count  Dtype  \n",
      "---  ------               --------------  -----  \n",
      " 0   Ranking              50000 non-null  float64\n",
      " 1   Price_Range          50000 non-null  float64\n",
      " 2   Number_of_Reviews    50000 non-null  float64\n",
      " 3   ID_TA                50000 non-null  float64\n",
      " 4   sample               50000 non-null  int64  \n",
      " 5   Rating               50000 non-null  float64\n",
      " 6   City_ind             50000 non-null  int64  \n",
      " 7   Len_rest_in_city     50000 non-null  float64\n",
      " 8   Std_ranking          50000 non-null  float64\n",
      " 9   Residents            50000 non-null  int64  \n",
      " 10  Country_ind          50000 non-null  int64  \n",
      " 11  Rew_of               50000 non-null  float64\n",
      " 12  American             50000 non-null  int64  \n",
      " 13  Asian                50000 non-null  int64  \n",
      " 14  Bar                  50000 non-null  int64  \n",
      " 15  British              50000 non-null  int64  \n",
      " 16  Cafe                 50000 non-null  int64  \n",
      " 17  Chinese              50000 non-null  int64  \n",
      " 18  European             50000 non-null  int64  \n",
      " 19  Fast Food            50000 non-null  int64  \n",
      " 20  French               50000 non-null  int64  \n",
      " 21  Indian               50000 non-null  int64  \n",
      " 22  International        50000 non-null  int64  \n",
      " 23  Italian              50000 non-null  int64  \n",
      " 24  Japanese             50000 non-null  int64  \n",
      " 25  Mediterranean        50000 non-null  int64  \n",
      " 26  No_info              50000 non-null  int64  \n",
      " 27  Pizza                50000 non-null  int64  \n",
      " 28  Pub                  50000 non-null  int64  \n",
      " 29  Seafood              50000 non-null  int64  \n",
      " 30  Spanish              50000 non-null  int64  \n",
      " 31  Sushi                50000 non-null  int64  \n",
      " 32  Thai                 50000 non-null  int64  \n",
      " 33  Vegetarian Friendly  50000 non-null  int64  \n",
      " 34  Last_rew_data        50000 non-null  float64\n",
      " 35  Len_rew              50000 non-null  float64\n",
      " 36  Std_num_rew          50000 non-null  float64\n",
      "dtypes: float64(11), int64(26)\n",
      "memory usage: 14.1 MB\n"
     ]
    }
   ],
   "source": [
    "pd.options.display.max_info_columns \n",
    "data.info(verbose=True, max_cols=False, null_counts=True)"
   ]
  },
  {
   "cell_type": "code",
   "execution_count": 40,
   "metadata": {},
   "outputs": [],
   "source": [
    "# Теперь выделим тестовую часть\n",
    "train_data = data.query('sample == 1').drop(['sample'], axis=1)\n",
    "test_data = data.query('sample == 0').drop(['sample'], axis=1)\n",
    "\n",
    "y = train_data.Rating.values            # наш таргет\n",
    "X = train_data.drop(['Rating'], axis=1)"
   ]
  },
  {
   "cell_type": "markdown",
   "metadata": {},
   "source": [
    "**Перед тем как отправлять наши данные на обучение, разделим данные на еще один тест и трейн, для валидации. \n",
    "Это поможет нам проверить, как хорошо наша модель работает, до отправки submissiona на kaggle.**"
   ]
  },
  {
   "cell_type": "code",
   "execution_count": 41,
   "metadata": {},
   "outputs": [],
   "source": [
    "# Воспользуемся специальной функцие train_test_split для разбивки тестовых данных\n",
    "# выделим 20% данных на валидацию (параметр test_size)\n",
    "X_train, X_test, y_train, y_test = train_test_split(X, y, test_size=0.2, random_state=RANDOM_SEED)"
   ]
  },
  {
   "cell_type": "code",
   "execution_count": 42,
   "metadata": {},
   "outputs": [
    {
     "data": {
      "text/plain": [
       "((10000, 36), (40000, 36), (40000, 35), (32000, 35), (8000, 35))"
      ]
     },
     "execution_count": 42,
     "metadata": {},
     "output_type": "execute_result"
    }
   ],
   "source": [
    "# проверяем\n",
    "test_data.shape, train_data.shape, X.shape, X_train.shape, X_test.shape"
   ]
  },
  {
   "cell_type": "markdown",
   "metadata": {},
   "source": [
    "# Model \n",
    "Сам ML"
   ]
  },
  {
   "cell_type": "code",
   "execution_count": 43,
   "metadata": {},
   "outputs": [],
   "source": [
    "# Импортируем необходимые библиотеки:\n",
    "from sklearn.ensemble import RandomForestRegressor # инструмент для создания и обучения модели\n",
    "from sklearn import metrics # инструменты для оценки точности модели"
   ]
  },
  {
   "cell_type": "code",
   "execution_count": 44,
   "metadata": {},
   "outputs": [],
   "source": [
    "# Создаём модель (НАСТРОЙКИ НЕ ТРОГАЕМ)\n",
    "model = RandomForestRegressor(n_estimators=100, verbose=1, n_jobs=-1, random_state=RANDOM_SEED)"
   ]
  },
  {
   "cell_type": "code",
   "execution_count": 45,
   "metadata": {},
   "outputs": [
    {
     "name": "stderr",
     "output_type": "stream",
     "text": [
      "[Parallel(n_jobs=-1)]: Using backend ThreadingBackend with 4 concurrent workers.\n",
      "[Parallel(n_jobs=-1)]: Done  42 tasks      | elapsed:    5.4s\n",
      "[Parallel(n_jobs=-1)]: Done 100 out of 100 | elapsed:   12.2s finished\n",
      "[Parallel(n_jobs=4)]: Using backend ThreadingBackend with 4 concurrent workers.\n",
      "[Parallel(n_jobs=4)]: Done  42 tasks      | elapsed:    0.0s\n",
      "[Parallel(n_jobs=4)]: Done 100 out of 100 | elapsed:    0.1s finished\n"
     ]
    }
   ],
   "source": [
    "# Обучаем модель на тестовом наборе данных\n",
    "model.fit(X_train, y_train)\n",
    "\n",
    "# Используем обученную модель для предсказания рейтинга ресторанов в тестовой выборке.\n",
    "# Предсказанные значения записываем в переменную y_pred\n",
    "y_pred = model.predict(X_test)"
   ]
  },
  {
   "cell_type": "code",
   "execution_count": 46,
   "metadata": {},
   "outputs": [
    {
     "name": "stdout",
     "output_type": "stream",
     "text": [
      "MAE: 0.201076875\n"
     ]
    }
   ],
   "source": [
    "# Сравниваем предсказанные значения (y_pred) с реальными (y_test), и смотрим насколько они в среднем отличаются\n",
    "# Метрика называется Mean Absolute Error (MAE) и показывает среднее отклонение предсказанных значений от фактических.\n",
    "print('MAE:', metrics.mean_absolute_error(y_test, y_pred))"
   ]
  },
  {
   "cell_type": "code",
   "execution_count": 47,
   "metadata": {},
   "outputs": [
    {
     "data": {
      "text/plain": [
       "<matplotlib.axes._subplots.AxesSubplot at 0x1a1c122150>"
      ]
     },
     "execution_count": 47,
     "metadata": {},
     "output_type": "execute_result"
    },
    {
     "data": {
      "image/png": "[encoded data removed]",
      "text/plain": [
       "<Figure size 720x720 with 1 Axes>"
      ]
     },
     "metadata": {
      "needs_background": "light"
     },
     "output_type": "display_data"
    }
   ],
   "source": [
    "# в RandomForestRegressor есть возможность вывести самые важные признаки для модели\n",
    "plt.rcParams['figure.figsize'] = (10,10)\n",
    "feat_importances = pd.Series(model.feature_importances_, index=X.columns)\n",
    "feat_importances.nlargest(15).plot(kind='barh')"
   ]
  },
  {
   "cell_type": "markdown",
   "metadata": {},
   "source": [
    "# Submission\n",
    "Если все устраевает - готовим Submission на кагл"
   ]
  },
  {
   "cell_type": "code",
   "execution_count": 48,
   "metadata": {},
   "outputs": [],
   "source": [
    "test_data.sample(10)\n",
    "test_data = test_data.drop(['Rating'], axis=1)"
   ]
  },
  {
   "cell_type": "code",
   "execution_count": 49,
   "metadata": {},
   "outputs": [
    {
     "data": {
      "text/plain": [
       "10000"
      ]
     },
     "execution_count": 49,
     "metadata": {},
     "output_type": "execute_result"
    }
   ],
   "source": [
    "len(test_data)"
   ]
  },
  {
   "cell_type": "code",
   "execution_count": 50,
   "metadata": {},
   "outputs": [
    {
     "data": {
      "text/plain": [
       "10000"
      ]
     },
     "execution_count": 50,
     "metadata": {},
     "output_type": "execute_result"
    }
   ],
   "source": [
    "len(sample_submission)"
   ]
  },
  {
   "cell_type": "code",
   "execution_count": 51,
   "metadata": {},
   "outputs": [
    {
     "name": "stderr",
     "output_type": "stream",
     "text": [
      "[Parallel(n_jobs=4)]: Using backend ThreadingBackend with 4 concurrent workers.\n",
      "[Parallel(n_jobs=4)]: Done  42 tasks      | elapsed:    0.1s\n",
      "[Parallel(n_jobs=4)]: Done 100 out of 100 | elapsed:    0.1s finished\n"
     ]
    },
    {
     "data": {
      "text/plain": [
       "10000"
      ]
     },
     "execution_count": 51,
     "metadata": {},
     "output_type": "execute_result"
    }
   ],
   "source": [
    "predict_submission = model.predict(test_data)\n",
    "\n",
    "len(predict_submission)"
   ]
  },
  {
   "cell_type": "code",
   "execution_count": 52,
   "metadata": {},
   "outputs": [],
   "source": [
    "def round_nearest(x, a):\n",
    "    return round(x / a) * a\n",
    "\n",
    "sample_submission['Rating'] = predict_submission.round(1)\n",
    "sample_submission['Rating'] = round_nearest(sample_submission['Rating'], 0.5)\n",
    "\n",
    "sample_submission.head(10)\n",
    "\n",
    "sample_submission.to_csv('submission.csv', index=False)"
   ]
  }
 ],
 "metadata": {
  "kernelspec": {
   "display_name": "Python 3",
   "language": "python",
   "name": "python3"
  },
  "language_info": {
   "codemirror_mode": {
    "name": "ipython",
    "version": 3
   },
   "file_extension": ".py",
   "mimetype": "text/x-python",
   "name": "python",
   "nbconvert_exporter": "python",
   "pygments_lexer": "ipython3",
   "version": "3.7.6"
  }
 },
 "nbformat": 4,
 "nbformat_minor": 4
}
