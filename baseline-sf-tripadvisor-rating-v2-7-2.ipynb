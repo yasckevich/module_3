{
 "cells": [
  {
   "cell_type": "markdown",
   "execution_count": null,
   "metadata": {},
   "source": [
    "# import"
   ]
  },
  {
   "cell_type": "code",
   "execution_count": 1,
   "metadata": {
    "_cell_guid": "b1076dfc-b9ad-4769-8c92-a6c4dae69d19",
    "_uuid": "8f2839f25d086af736a60e9eeb907d3b93b6e0e5"
   },
   "outputs": [
    {
     "name": "stdout",
     "output_type": "stream",
     "text": [
      "/kaggle/input/sf-dst-restaurant-rating/main_task.csv\n",
      "/kaggle/input/sf-dst-restaurant-rating/kaggle_task.csv\n",
      "/kaggle/input/sf-dst-restaurant-rating/sample_submission.csv\n"
     ]
    }
   ],
   "source": [
    "# This Python 3 environment comes with many helpful analytics libraries installed\n",
    "# It is defined by the kaggle/python docker image: https://github.com/kaggle/docker-python\n",
    "# For example, here's several helpful packages to load in \n",
    "\n",
    "import numpy as np # linear algebra\n",
    "import pandas as pd # data processing, CSV file I/O (e.g. pd.read_csv)\n",
    "\n",
    "import matplotlib.pyplot as plt\n",
    "import seaborn as sns \n",
    "%matplotlib inline\n",
    "\n",
    "# Загружаем специальный удобный инструмент для разделения датасета:\n",
    "from sklearn.model_selection import train_test_split\n",
    "\n",
    "# Input data files are available in the \"../input/\" directory.\n",
    "# For example, running this (by clicking run or pressing Shift+Enter) will list all files under the input directory\n",
    "\n",
    "import os\n",
    "for dirname, _, filenames in os.walk('/kaggle/input'):\n",
    "    for filename in filenames:\n",
    "        print(os.path.join(dirname, filename))\n",
    "\n",
    "# Any results you write to the current directory are saved as output."
   ]
  },
  {
   "cell_type": "code",
   "execution_count": 2,
   "metadata": {},
   "outputs": [],
   "source": [
    "# всегда фиксируйте RANDOM_SEED, чтобы ваши эксперименты были воспроизводимы!\n",
    "RANDOM_SEED = 42"
   ]
  },
  {
   "cell_type": "code",
   "execution_count": 3,
   "metadata": {},
   "outputs": [],
   "source": [
    "# зафиксируем версию пакетов, чтобы эксперименты были воспроизводимы:\n",
    "!pip freeze > requirements.txt"
   ]
  },
  {
   "cell_type": "markdown",
   "execution_count": null,
   "metadata": {},
   "source": [
    "# DATA"
   ]
  },
  {
   "cell_type": "code",
   "execution_count": 4,
   "metadata": {
    "_cell_guid": "79c7e3d0-c299-4dcb-8224-4455121ee9b0",
    "_uuid": "d629ff2d2480ee46fbb7e2d37f6b5fab8052498a"
   },
   "outputs": [],
   "source": [
    "DATA_DIR = '/kaggle/input/sf-dst-restaurant-rating/'\n",
    "df_train = pd.read_csv(DATA_DIR+'/main_task.csv')\n",
    "df_test = pd.read_csv(DATA_DIR+'kaggle_task.csv')\n",
    "sample_submission = pd.read_csv(DATA_DIR+'/sample_submission.csv')"
   ]
  },
  {
   "cell_type": "code",
   "execution_count": 5,
   "metadata": {},
   "outputs": [],
   "source": [
    "# ВАЖНО! дря корректной обработки признаков объединяем трейн и тест в один датасет\n",
    "df_train['sample'] = 1 # помечаем где у нас трейн\n",
    "df_test['sample'] = 0 # помечаем где у нас тест\n",
    "df_test['Rating'] = 0 # в тесте у нас нет значения Rating, мы его должны предсказать, по этому пока просто заполняем нулями\n",
    "\n",
    "data = df_test.append(df_train, sort=False).reset_index(drop=True) # объединяем"
   ]
  },
  {
   "cell_type": "code",
   "execution_count": 6,
   "metadata": {},
   "outputs": [],
   "source": [
    "col = ['Restaurant_id', 'City', 'Cuisine_Style', 'Ranking', 'Price_Range', 'Number_of_Reviews', 'Reviews', 'URL_TA', 'ID_TA','sample','Rating']\n",
    "data.columns = col"
   ]
  },
  {
   "cell_type": "code",
   "execution_count": 7,
   "metadata": {},
   "outputs": [
    {
     "name": "stdout",
     "output_type": "stream",
     "text": [
      "<class 'pandas.core.frame.DataFrame'>\n",
      "RangeIndex: 50000 entries, 0 to 49999\n",
      "Data columns (total 11 columns):\n",
      "Restaurant_id        50000 non-null object\n",
      "City                 50000 non-null object\n",
      "Cuisine_Style        38410 non-null object\n",
      "Ranking              50000 non-null float64\n",
      "Price_Range          32639 non-null object\n",
      "Number_of_Reviews    46800 non-null float64\n",
      "Reviews              49998 non-null object\n",
      "URL_TA               50000 non-null object\n",
      "ID_TA                50000 non-null object\n",
      "sample               50000 non-null int64\n",
      "Rating               50000 non-null float64\n",
      "dtypes: float64(3), int64(1), object(7)\n",
      "memory usage: 4.2+ MB\n"
     ]
    }
   ],
   "source": [
    "data.info(100000)"
   ]
  },
  {
   "cell_type": "markdown",
   "execution_count": null,
   "metadata": {},
   "source": [
    "# Cleaning and Prepping Data"
   ]
  },
  {
   "cell_type": "markdown",
   "execution_count": null,
   "metadata": {},
   "source": [
    "**Проверяем столбец с Restaurant_id (идентификационный номер ресторана / сети ресторанов)**"
   ]
  },
  {
   "cell_type": "code",
   "execution_count": 8,
   "metadata": {},
   "outputs": [
    {
     "name": "stdout",
     "output_type": "stream",
     "text": [
      "count      50000\n",
      "unique     13094\n",
      "top       id_871\n",
      "freq          19\n",
      "Name: Restaurant_id, dtype: object\n",
      " \n",
      "50000\n",
      "<class 'numpy.int64'>\n"
     ]
    }
   ],
   "source": [
    "data.Restaurant_id.value_counts()\n",
    "# пропусков нет, все ок\n",
    "\n",
    "print(data.Restaurant_id.describe())\n",
    "# по условию - в одному id  могут быть прикреплены несколько ресторанов одной сети,\n",
    "# поэтому уникальных значений меньше чем записей\n",
    "\n",
    "data.Restaurant_id = [i[3:] for i in data.Restaurant_id]\n",
    "data.Restaurant_id = [int(i) for i in data.Restaurant_id]\n",
    "\n",
    "print(' ')\n",
    "print(len(data.Restaurant_id))\n",
    "print(type(data.Restaurant_id[1]))\n",
    "\n",
    "# превратили столбец в численное выражение"
   ]
  },
  {
   "cell_type": "markdown",
   "execution_count": null,
   "metadata": {},
   "source": [
    "**Добавляем обозначение сетевых магазинов**"
   ]
  },
  {
   "cell_type": "code",
   "execution_count": 9,
   "metadata": {},
   "outputs": [],
   "source": [
    "a=data.Restaurant_id.value_counts()\n",
    "a=dict(a)\n",
    "a=pd.DataFrame({'count':a}, columns=['count'])\n",
    "\n",
    "A=a.index\n",
    "B=a.values\n",
    "\n",
    "data['chain']= data['Restaurant_id'].replace(A, B)"
   ]
  },
  {
   "cell_type": "markdown",
   "execution_count": null,
   "metadata": {},
   "source": [
    "**Проверяем столбец с City (город, в котором находится ресторан)**"
   ]
  },
  {
   "cell_type": "code",
   "execution_count": 10,
   "metadata": {},
   "outputs": [
    {
     "name": "stdout",
     "output_type": "stream",
     "text": [
      "count      50000\n",
      "unique        31\n",
      "top       London\n",
      "freq        7193\n",
      "Name: City, dtype: object\n",
      " \n",
      "50000\n",
      "<class 'numpy.int64'>\n"
     ]
    },
    {
     "data": {
      "text/plain": [
       "London        7193\n",
       "Paris         6108\n",
       "Madrid        3813\n",
       "Barcelona     3395\n",
       "Berlin        2705\n",
       "Milan         2694\n",
       "Rome          2589\n",
       "Prague        1816\n",
       "Lisbon        1647\n",
       "Vienna        1443\n",
       "Amsterdam     1372\n",
       "Brussels      1314\n",
       "Hamburg       1186\n",
       "Munich        1145\n",
       "Lyon          1126\n",
       "Stockholm     1033\n",
       "Budapest      1021\n",
       "Warsaw         925\n",
       "Dublin         836\n",
       "Copenhagen     819\n",
       "Athens         776\n",
       "Edinburgh      745\n",
       "Zurich         685\n",
       "Oporto         642\n",
       "Geneva         590\n",
       "Krakow         554\n",
       "Oslo           488\n",
       "Helsinki       475\n",
       "Bratislava     380\n",
       "Luxembourg     263\n",
       "Ljubljana      222\n",
       "Name: City, dtype: int64"
      ]
     },
     "execution_count": 10,
     "metadata": {},
     "output_type": "execute_result"
    }
   ],
   "source": [
    "data.City.value_counts()\n",
    "# пропусков нет, города не повторяются, проблем с ракладкой или регистром нет, все ок\n",
    "\n",
    "print(data.City.describe())\n",
    "\n",
    "A = list(data.City.value_counts().keys())\n",
    "B = range(0, len(A))\n",
    "dict_city = dict(zip(A, B))\n",
    "# словарь со значениями городов\n",
    "\n",
    "data['City_ind'] = data['City'].replace(A, B)\n",
    "\n",
    "print(' ')\n",
    "print(len(data.City_ind))\n",
    "print(type(data.City_ind[1]))\n",
    "\n",
    "# аномалий нет + мы заменили города на числовые индефикаторы\n",
    "\n",
    "data.City.value_counts()"
   ]
  },
  {
   "cell_type": "code",
   "execution_count": 11,
   "metadata": {},
   "outputs": [],
   "source": [
    "A = list(data.City.value_counts().keys())\n",
    "B = list(data.City.value_counts())\n",
    "\n",
    "data['Len_rest_in_city'] = data['City'].replace(A, B)\n",
    "\n",
    "data\n",
    "\n",
    "data['Std_ranking']=data['Ranking']/data['Len_rest_in_city']"
   ]
  },
  {
   "cell_type": "markdown",
   "execution_count": null,
   "metadata": {},
   "source": [
    "**Добавим столбец Residents (кол-во жителей в каждом городе)**"
   ]
  },
  {
   "cell_type": "code",
   "execution_count": 12,
   "metadata": {},
   "outputs": [
    {
     "name": "stdout",
     "output_type": "stream",
     "text": [
      "50000\n",
      "<class 'numpy.int64'>\n"
     ]
    }
   ],
   "source": [
    "B = [8961989, 2148271, 3266126, 1636762, 3769495, 1397852, 4110000, 1324277, 506654, 1888776, 860124,\n",
    "     179277, 1899160, 1471508, 481181, 975904, 1752286, 1790658, 1173179, 794128, 664046, 513210, 424008,\n",
    "     237591, 201818, 779115, 693491, 643272, 432862, 626108, 295504]\n",
    "dict_res = dict(zip(A, B))\n",
    "# словарь со кол-вом жителей\n",
    "\n",
    "data['Residents'] = data['City'].replace(A, B)\n",
    "\n",
    "print(len(data.Residents))\n",
    "print(type(data.Residents[1]))"
   ]
  },
  {
   "cell_type": "markdown",
   "execution_count": null,
   "metadata": {},
   "source": [
    "**Добавим столбец Country (страна)**"
   ]
  },
  {
   "cell_type": "code",
   "execution_count": 13,
   "metadata": {},
   "outputs": [
    {
     "name": "stdout",
     "output_type": "stream",
     "text": [
      "50000\n",
      "<class 'numpy.int64'>\n"
     ]
    }
   ],
   "source": [
    "data['Country'] = data.City\n",
    "data['Country'] = data['Country'].replace('London', 'GreatBritain')\n",
    "data['Country'] = data['Country'].replace('Paris', 'France')\n",
    "data['Country'] = data['Country'].replace('Madrid', 'Spain')\n",
    "data['Country'] = data['Country'].replace('Barcelona', 'Spain')\n",
    "data['Country'] = data['Country'].replace('Berlin', 'Germany')\n",
    "data['Country'] = data['Country'].replace('Milan', 'Italy')\n",
    "data['Country'] = data['Country'].replace('Rome', 'Italy')\n",
    "data['Country'] = data['Country'].replace('Prague', 'CzechRepublic')\n",
    "data['Country'] = data['Country'].replace('Lisbon', 'Portugal')\n",
    "data['Country'] = data['Country'].replace('Vienna', 'Austria')\n",
    "data['Country'] = data['Country'].replace('Amsterdam', 'Netherlands')\n",
    "data['Country'] = data['Country'].replace('Brussels', 'Belgium')\n",
    "data['Country'] = data['Country'].replace('Hamburg', 'Germany')\n",
    "data['Country'] = data['Country'].replace('Munich', 'Germany')\n",
    "data['Country'] = data['Country'].replace('Lyon', 'France')\n",
    "data['Country'] = data['Country'].replace('Stockholm', 'Sweden')\n",
    "data['Country'] = data['Country'].replace('Budapest', 'Hungary')\n",
    "data['Country'] = data['Country'].replace('Warsaw', 'Poland')\n",
    "data['Country'] = data['Country'].replace('Dublin', 'Irland')\n",
    "data['Country'] = data['Country'].replace('Copenhagen', 'Denmark')\n",
    "data['Country'] = data['Country'].replace('Athens', 'Greece')\n",
    "data['Country'] = data['Country'].replace('Edinburgh', 'Scotland')\n",
    "data['Country'] = data['Country'].replace('Zurich', 'Switzeland')\n",
    "data['Country'] = data['Country'].replace('Oporto', 'Portugal')\n",
    "data['Country'] = data['Country'].replace('Geneva', 'Switzeland')\n",
    "data['Country'] = data['Country'].replace('Krakow', 'Poland')\n",
    "data['Country'] = data['Country'].replace('Oslo', 'Norway')\n",
    "data['Country'] = data['Country'].replace('Helsinki', 'Finland')\n",
    "data['Country'] = data['Country'].replace('Bratislava', 'Slovakia')\n",
    "data['Country'] = data['Country'].replace('Luxembourg', 'Luxembourg')\n",
    "data['Country'] = data['Country'].replace('Ljubljana', 'Slovenia')\n",
    "\n",
    "A = list(data.Country.value_counts().keys())\n",
    "B = range(0, len(A))\n",
    "dict_country = dict(zip(A, B))\n",
    "# словарь со значениями стран\n",
    "\n",
    "\n",
    "data['Country_ind'] = data['Country'].replace(A, B)\n",
    "\n",
    "print(len(data.Country_ind))\n",
    "print(type(data.Country_ind[1]))"
   ]
  },
  {
   "cell_type": "markdown",
   "execution_count": null,
   "metadata": {},
   "source": [
    "**Добавим столбик с отношением кол-ва отзывов к населению (как часто пишут их)**"
   ]
  },
  {
   "cell_type": "code",
   "execution_count": 14,
   "metadata": {},
   "outputs": [
    {
     "name": "stdout",
     "output_type": "stream",
     "text": [
      "50000\n",
      "<class 'numpy.float64'>\n"
     ]
    }
   ],
   "source": [
    "data['Rew_of'] = data['Number_of_Reviews']/data['Residents']\n",
    "data['Rew_of'] = data['Rew_of'].fillna(0)\n",
    "\n",
    "\n",
    "\n",
    "print(len(data.Rew_of))\n",
    "print(type(data.Rew_of[1]))"
   ]
  },
  {
   "cell_type": "markdown",
   "execution_count": null,
   "metadata": {},
   "source": [
    "**Проверяем столбец с Cuisine_Style (кухня или кухни, к которым можно отнести блюда, предлагаемые в ресторане)**"
   ]
  },
  {
   "cell_type": "code",
   "execution_count": 15,
   "metadata": {},
   "outputs": [
    {
     "data": {
      "text/plain": [
       "50000"
      ]
     },
     "execution_count": 15,
     "metadata": {},
     "output_type": "execute_result"
    }
   ],
   "source": [
    "data['Cuisine_Style'] = data['Cuisine_Style'].fillna('\"\"No_info\"')\n",
    "# заменяем пропуски\n",
    "\n",
    "new = pd.DataFrame(data.Cuisine_Style.dropna())\n",
    "a = list(new.Cuisine_Style)\n",
    "b = list()\n",
    "\n",
    "def l(x):\n",
    "    i = 0\n",
    "    for g in x:\n",
    "        f = x[i].split(',')\n",
    "        v = 0\n",
    "        for g in f:\n",
    "            h = f[v][2:-1].replace(\"'\", '')\n",
    "            v = +1\n",
    "            b.append(h)\n",
    "        i += 1\n",
    "        \n",
    "l(a)\n",
    "\n",
    "from collections import Counter\n",
    "\n",
    "coun=Counter(b)\n",
    "coun=dict(coun)\n",
    "coun=pd.DataFrame({'count':coun}, columns=['count'])\n",
    "a=coun['count'].mean()\n",
    "\n",
    "b=list(coun.query('count > @a').index)\n",
    "b\n",
    "\n",
    "#оставляем только самые популярные кухни\n",
    "\n",
    "def find_item(cell):\n",
    "    if item in cell:\n",
    "        return 1\n",
    "    return 0\n",
    "\n",
    "\n",
    "for item in b:\n",
    "    data[item] = data['Cuisine_Style'].apply(find_item)\n",
    "\n",
    "data['Cuisine_Style'] = data['Cuisine_Style'].apply(lambda x: len(x))\n",
    "\n",
    "len(data['Cuisine_Style'])\n",
    "# пропуски заменены, строки преобразованы в столбцы"
   ]
  },
  {
   "cell_type": "markdown",
   "execution_count": null,
   "metadata": {},
   "source": [
    "**Проверяем столбец с Price_Range (диапазон цен в ресторане)**"
   ]
  },
  {
   "cell_type": "code",
   "execution_count": 16,
   "metadata": {},
   "outputs": [
    {
     "name": "stdout",
     "output_type": "stream",
     "text": [
      "count        32639\n",
      "unique           3\n",
      "top       $$ - $$$\n",
      "freq         23041\n",
      "Name: Price_Range, dtype: object\n",
      "\n",
      "50000\n",
      "<class 'numpy.float64'>\n"
     ]
    }
   ],
   "source": [
    "print(data.Price_Range.describe())\n",
    "\n",
    "data['Price_Range'] = data['Price_Range'].replace('$', 1)\n",
    "data['Price_Range'] = data['Price_Range'].replace('$$ - $$$', 2)\n",
    "data['Price_Range'] = data['Price_Range'].replace('$$$$', 3)\n",
    "\n",
    "a = data['Price_Range'].mean()\n",
    "a = int(a)\n",
    "data['Price_Range'] = data['Price_Range'].fillna(a)\n",
    "\n",
    "print('')\n",
    "print(len(data.Price_Range))\n",
    "print(type(data.Price_Range[1]))\n",
    "# заменили буквенные индефикаторы на численные"
   ]
  },
  {
   "cell_type": "markdown",
   "execution_count": null,
   "metadata": {},
   "source": [
    "**Проверяем столбец с Reviews (данные о двух отзывах, которые отображаются на сайте ресторана)**"
   ]
  },
  {
   "cell_type": "code",
   "execution_count": 17,
   "metadata": {},
   "outputs": [
    {
     "name": "stdout",
     "output_type": "stream",
     "text": [
      "count        49998\n",
      "unique       41857\n",
      "top       [[], []]\n",
      "freq          8112\n",
      "Name: Reviews, dtype: object\n"
     ]
    },
    {
     "name": "stderr",
     "output_type": "stream",
     "text": [
      "/opt/conda/lib/python3.6/site-packages/ipykernel_launcher.py:14: SettingWithCopyWarning: \n",
      "A value is trying to be set on a copy of a slice from a DataFrame\n",
      "\n",
      "See the caveats in the documentation: http://pandas.pydata.org/pandas-docs/stable/user_guide/indexing.html#returning-a-view-versus-a-copy\n",
      "  \n"
     ]
    },
    {
     "name": "stdout",
     "output_type": "stream",
     "text": [
      "\n",
      "50000\n",
      "<class 'numpy.float64'>\n"
     ]
    }
   ],
   "source": [
    "print(data.Reviews.describe())\n",
    "\n",
    "from datetime import datetime, date, time\n",
    "data['Reviews'] = data.Reviews.replace(\"[[], []]\", 'No_info')\n",
    "# заменяем пропуски\n",
    "\n",
    "data['Last_rew'] = data['Reviews']\n",
    "\n",
    "data['Last_rew']=data['Last_rew'].str[-27:-17]\n",
    "\n",
    "now = datetime.now()\n",
    "\n",
    "#base['Last_rew'][base.Last_rew.str.contains(\"]\")]=now\n",
    "data['Last_rew'][data.Last_rew.str.contains(\"]\")==True] = now\n",
    "data['Last_rew'] = data['Last_rew'].fillna(now)\n",
    "\n",
    "# приравниваем строки без даты к сегодня\n",
    "\n",
    "data['Last_rew'] = [pd.to_datetime(i) for i in data.Last_rew]\n",
    "\n",
    "# добавляем сколько прошло времени с момента последнего отзыва\n",
    "\n",
    "data['Last_rew_data'] = data['Last_rew']-now\n",
    "data['Last_rew_data'] = [i.total_seconds() for i in data.Last_rew_data]\n",
    "data['Last_rew_data'] = data['Last_rew_data']\n",
    "data['Last_rew_data'] = data['Last_rew_data'].fillna(0)\n",
    "\n",
    "\n",
    "\n",
    "print('')\n",
    "print(len(data.Last_rew_data))\n",
    "print(type(data.Last_rew_data[1]))"
   ]
  },
  {
   "cell_type": "markdown",
   "execution_count": null,
   "metadata": {},
   "source": [
    "**Проверяем столбец с Number_of_Reviews (количество отзывов о ресторане)**"
   ]
  },
  {
   "cell_type": "code",
   "execution_count": 18,
   "metadata": {},
   "outputs": [
    {
     "name": "stdout",
     "output_type": "stream",
     "text": [
      "count    46800.000000\n",
      "mean       124.471197\n",
      "std        294.114345\n",
      "min          2.000000\n",
      "25%          9.000000\n",
      "50%         33.000000\n",
      "75%        115.000000\n",
      "max       9660.000000\n",
      "Name: Number_of_Reviews, dtype: float64\n",
      "\n",
      "50000\n",
      "<class 'numpy.float64'>\n"
     ]
    },
    {
     "name": "stderr",
     "output_type": "stream",
     "text": [
      "/opt/conda/lib/python3.6/site-packages/ipykernel_launcher.py:16: SettingWithCopyWarning: \n",
      "A value is trying to be set on a copy of a slice from a DataFrame\n",
      "\n",
      "See the caveats in the documentation: http://pandas.pydata.org/pandas-docs/stable/user_guide/indexing.html#returning-a-view-versus-a-copy\n",
      "  app.launch_new_instance()\n"
     ]
    }
   ],
   "source": [
    "from datetime import datetime, date, time\n",
    "\n",
    "m=data['Number_of_Reviews'].mean()\n",
    "\n",
    "print(data['Number_of_Reviews'].describe())\n",
    "# отрицательных чисел нет\n",
    "\n",
    "data['Number_of_Reviews'].value_counts()\n",
    "# но есть пропуски, нужно проверить, что где есть пропуски - там действительно нет отзывов\n",
    "\n",
    "data['Number_of_Reviews'] = data['Number_of_Reviews'].fillna('No_info')\n",
    "# меняем пропуски на Not_info\n",
    "\n",
    "a = data.query('Reviews == \"No_info\" & Number_of_Reviews == \"No_info\"')\n",
    "b = list(a.index)\n",
    "data['Number_of_Reviews'][b] = 0\n",
    "# где нет значения кол-ва отзывов и превью отзывов - ставим 0\n",
    "\n",
    "len(data['Number_of_Reviews'])\n",
    "# заменили предполагаемые пропуски, в некоторые смогли подставить значения. С 2,5+ тысяч снизили пропуски до 900+\n",
    "\n",
    "data['Number_of_Reviews'] = data['Price_Range'].replace('No_info', m)\n",
    "\n",
    "# пропуски, которые не смогли заполнить, заполняем средним значением\n",
    "\n",
    "#data.Number_of_Reviews = [float(i) for i in data.Number_of_Reviews]\n",
    "\n",
    "print('')\n",
    "print(len(data.Number_of_Reviews))\n",
    "print(type(data.Number_of_Reviews[1]))"
   ]
  },
  {
   "cell_type": "markdown",
   "execution_count": null,
   "metadata": {},
   "source": [
    "**проверяем м столбец с ID_TA (идентификатор ресторана в базе данных TripAdvisor)**"
   ]
  },
  {
   "cell_type": "code",
   "execution_count": 19,
   "metadata": {},
   "outputs": [
    {
     "name": "stdout",
     "output_type": "stream",
     "text": [
      "count        50000\n",
      "unique       49963\n",
      "top       d4748208\n",
      "freq             2\n",
      "Name: ID_TA, dtype: object\n",
      "\n",
      "50000\n",
      "<class 'numpy.float64'>\n"
     ]
    }
   ],
   "source": [
    "print(data['ID_TA'].describe())\n",
    "\n",
    "data['ID_TA']=data['ID_TA'].str[1:]\n",
    "data.ID_TA = [float(i) for i in data.ID_TA]\n",
    "\n",
    "print('')\n",
    "print(len(data.ID_TA))\n",
    "print(type(data.ID_TA[1]))"
   ]
  },
  {
   "cell_type": "code",
   "execution_count": 20,
   "metadata": {},
   "outputs": [
    {
     "data": {
      "text/plain": [
       "<matplotlib.axes._subplots.AxesSubplot at 0x7f4c04d26a90>"
      ]
     },
     "execution_count": 20,
     "metadata": {},
     "output_type": "execute_result"
    },
    {
     "data": {
      "image/png": "[encoded data removed]",
      "text/plain": [
       "<Figure size 720x504 with 1 Axes>"
      ]
     },
     "metadata": {
      "needs_background": "light"
     },
     "output_type": "display_data"
    }
   ],
   "source": [
    "plt.rcParams['figure.figsize'] = (10,7)\n",
    "df_train['Ranking'].hist(bins=100)"
   ]
  },
  {
   "cell_type": "code",
   "execution_count": 21,
   "metadata": {},
   "outputs": [
    {
     "data": {
      "text/plain": [
       "<matplotlib.axes._subplots.AxesSubplot at 0x7f4c05080c88>"
      ]
     },
     "execution_count": 21,
     "metadata": {},
     "output_type": "execute_result"
    },
    {
     "data": {
      "image/png": "[encoded data removed]",
      "text/plain": [
       "<Figure size 720x504 with 1 Axes>"
      ]
     },
     "metadata": {
      "needs_background": "light"
     },
     "output_type": "display_data"
    }
   ],
   "source": [
    "df_train['City'].value_counts(ascending=True).plot(kind='barh')"
   ]
  },
  {
   "cell_type": "code",
   "execution_count": 22,
   "metadata": {},
   "outputs": [
    {
     "data": {
      "text/plain": [
       "<matplotlib.axes._subplots.AxesSubplot at 0x7f4bec0508d0>"
      ]
     },
     "execution_count": 22,
     "metadata": {},
     "output_type": "execute_result"
    },
    {
     "data": {
      "image/png": "[encoded data removed]",
      "text/plain": [
       "<Figure size 720x504 with 1 Axes>"
      ]
     },
     "metadata": {
      "needs_background": "light"
     },
     "output_type": "display_data"
    }
   ],
   "source": [
    "df_train['Ranking'][df_train['City'] =='London'].hist(bins=100)"
   ]
  },
  {
   "cell_type": "code",
   "execution_count": 23,
   "metadata": {},
   "outputs": [
    {
     "data": {
      "image/png": "[encoded data removed]",
      "text/plain": [
       "<Figure size 720x504 with 1 Axes>"
      ]
     },
     "metadata": {
      "needs_background": "light"
     },
     "output_type": "display_data"
    }
   ],
   "source": [
    "# посмотрим на топ 10 городов\n",
    "for x in (df_train['City'].value_counts())[0:10].index:\n",
    "    df_train['Ranking'][df_train['City'] == x].hist(bins=100)\n",
    "plt.show()"
   ]
  },
  {
   "cell_type": "markdown",
   "execution_count": null,
   "metadata": {},
   "source": [
    "### Посмотрим распределение целевой переменной"
   ]
  },
  {
   "cell_type": "code",
   "execution_count": 24,
   "metadata": {},
   "outputs": [
    {
     "data": {
      "text/plain": [
       "<matplotlib.axes._subplots.AxesSubplot at 0x7f4beb2ac3c8>"
      ]
     },
     "execution_count": 24,
     "metadata": {},
     "output_type": "execute_result"
    },
    {
     "data": {
      "image/png": "[encoded data removed]",
      "text/plain": [
       "<Figure size 720x504 with 1 Axes>"
      ]
     },
     "metadata": {
      "needs_background": "light"
     },
     "output_type": "display_data"
    }
   ],
   "source": [
    "df_train['Rating'].value_counts(ascending=True).plot(kind='barh')"
   ]
  },
  {
   "cell_type": "markdown",
   "execution_count": null,
   "metadata": {},
   "source": [
    "### Посмотрим распределение целевой переменной относительно признака"
   ]
  },
  {
   "cell_type": "code",
   "execution_count": 25,
   "metadata": {},
   "outputs": [
    {
     "data": {
      "text/plain": [
       "<matplotlib.axes._subplots.AxesSubplot at 0x7f4be43e24a8>"
      ]
     },
     "execution_count": 25,
     "metadata": {},
     "output_type": "execute_result"
    },
    {
     "data": {
      "image/png": "[encoded data removed]",
      "text/plain": [
       "<Figure size 720x504 with 1 Axes>"
      ]
     },
     "metadata": {
      "needs_background": "light"
     },
     "output_type": "display_data"
    }
   ],
   "source": [
    "df_train['Ranking'][df_train['Rating'] == 5].hist(bins=100)"
   ]
  },
  {
   "cell_type": "code",
   "execution_count": 26,
   "metadata": {},
   "outputs": [
    {
     "data": {
      "text/plain": [
       "<matplotlib.axes._subplots.AxesSubplot at 0x7f4beb2e09e8>"
      ]
     },
     "execution_count": 26,
     "metadata": {},
     "output_type": "execute_result"
    },
    {
     "data": {
      "image/png": "[encoded data removed]",
      "text/plain": [
       "<Figure size 720x504 with 1 Axes>"
      ]
     },
     "metadata": {
      "needs_background": "light"
     },
     "output_type": "display_data"
    }
   ],
   "source": [
    "df_train['Ranking'][df_train['Rating'] < 4].hist(bins=100)"
   ]
  },
  {
   "cell_type": "code",
   "execution_count": 27,
   "metadata": {},
   "outputs": [
    {
     "data": {
      "text/plain": [
       "<matplotlib.axes._subplots.AxesSubplot at 0x7f4bebfcaf28>"
      ]
     },
     "execution_count": 27,
     "metadata": {},
     "output_type": "execute_result"
    },
    {
     "data": {
      "image/png": "[encoded data removed]",
      "text/plain": [
       "<Figure size 1080x720 with 2 Axes>"
      ]
     },
     "metadata": {
      "needs_background": "light"
     },
     "output_type": "display_data"
    }
   ],
   "source": [
    "data1=data\n",
    "col= ['Restaurant_id', 'Cuisine_Style', 'Ranking', 'Price_Range',\n",
    "       'Number_of_Reviews', 'ID_TA', 'sample', 'Rating', 'City_ind',\n",
    "       'Residents', 'Country_ind','Last_rew_data']\n",
    "\n",
    "plt.rcParams['figure.figsize'] = (15,10)\n",
    "sns.heatmap(data1[col].drop(['sample'], axis=1).corr(),)"
   ]
  },
  {
   "cell_type": "markdown",
   "execution_count": null,
   "metadata": {},
   "source": [
    "# Data Preprocessing"
   ]
  },
  {
   "cell_type": "code",
   "execution_count": 28,
   "metadata": {},
   "outputs": [],
   "source": [
    "data = data.drop('URL_TA', axis=1)\n",
    "data = data.drop('Reviews', axis=1)\n",
    "data = data.drop('Last_rew', axis=1)\n",
    "data = data.drop('City', axis=1)\n",
    "data = data.drop('Country', axis=1)\n",
    "data = data.drop('Restaurant_id', axis=1)\n",
    "data = data.drop('Cuisine_Style', axis=1)"
   ]
  },
  {
   "cell_type": "code",
   "execution_count": 29,
   "metadata": {},
   "outputs": [],
   "source": [
    "data = data.drop('Len_rest_in_city', axis=1)"
   ]
  },
  {
   "cell_type": "code",
   "execution_count": 30,
   "metadata": {},
   "outputs": [],
   "source": [
    "data = data.drop('chain', axis=1)"
   ]
  },
  {
   "cell_type": "code",
   "execution_count": 31,
   "metadata": {},
   "outputs": [
    {
     "name": "stdout",
     "output_type": "stream",
     "text": [
      "<class 'pandas.core.frame.DataFrame'>\n",
      "RangeIndex: 50000 entries, 0 to 49999\n",
      "Data columns (total 34 columns):\n",
      "Ranking                50000 non-null float64\n",
      "Price_Range            50000 non-null float64\n",
      "Number_of_Reviews      50000 non-null float64\n",
      "ID_TA                  50000 non-null float64\n",
      "sample                 50000 non-null int64\n",
      "Rating                 50000 non-null float64\n",
      "City_ind               50000 non-null int64\n",
      "Std_ranking            50000 non-null float64\n",
      "Residents              50000 non-null int64\n",
      "Country_ind            50000 non-null int64\n",
      "Rew_of                 50000 non-null float64\n",
      "American               50000 non-null int64\n",
      "Asian                  50000 non-null int64\n",
      "Bar                    50000 non-null int64\n",
      "British                50000 non-null int64\n",
      "Cafe                   50000 non-null int64\n",
      "Chinese                50000 non-null int64\n",
      "European               50000 non-null int64\n",
      "Fast Food              50000 non-null int64\n",
      "French                 50000 non-null int64\n",
      "Indian                 50000 non-null int64\n",
      "International          50000 non-null int64\n",
      "Italian                50000 non-null int64\n",
      "Japanese               50000 non-null int64\n",
      "Mediterranean          50000 non-null int64\n",
      "No_info                50000 non-null int64\n",
      "Pizza                  50000 non-null int64\n",
      "Pub                    50000 non-null int64\n",
      "Seafood                50000 non-null int64\n",
      "Spanish                50000 non-null int64\n",
      "Sushi                  50000 non-null int64\n",
      "Thai                   50000 non-null int64\n",
      "Vegetarian Friendly    50000 non-null int64\n",
      "Last_rew_data          50000 non-null float64\n",
      "dtypes: float64(8), int64(26)\n",
      "memory usage: 13.0 MB\n"
     ]
    }
   ],
   "source": [
    "pd.options.display.max_info_columns \n",
    "data.info(verbose=True, max_cols=False, null_counts=True)"
   ]
  },
  {
   "cell_type": "code",
   "execution_count": 32,
   "metadata": {},
   "outputs": [],
   "source": [
    "# Теперь выделим тестовую часть\n",
    "train_data = data.query('sample == 1').drop(['sample'], axis=1)\n",
    "test_data = data.query('sample == 0').drop(['sample'], axis=1)\n",
    "\n",
    "y = train_data.Rating.values            # наш таргет\n",
    "X = train_data.drop(['Rating'], axis=1)"
   ]
  },
  {
   "cell_type": "markdown",
   "execution_count": null,
   "metadata": {},
   "source": [
    "**Перед тем как отправлять наши данные на обучение, разделим данные на еще один тест и трейн, для валидации. \n",
    "Это поможет нам проверить, как хорошо наша модель работает, до отправки submissiona на kaggle.**"
   ]
  },
  {
   "cell_type": "code",
   "execution_count": 33,
   "metadata": {},
   "outputs": [],
   "source": [
    "# Воспользуемся специальной функцие train_test_split для разбивки тестовых данных\n",
    "# выделим 20% данных на валидацию (параметр test_size)\n",
    "X_train, X_test, y_train, y_test = train_test_split(X, y, test_size=0.2, random_state=RANDOM_SEED)"
   ]
  },
  {
   "cell_type": "code",
   "execution_count": 34,
   "metadata": {},
   "outputs": [
    {
     "data": {
      "text/plain": [
       "((10000, 33), (40000, 33), (40000, 32), (32000, 32), (8000, 32))"
      ]
     },
     "execution_count": 34,
     "metadata": {},
     "output_type": "execute_result"
    }
   ],
   "source": [
    "# проверяем\n",
    "test_data.shape, train_data.shape, X.shape, X_train.shape, X_test.shape"
   ]
  },
  {
   "cell_type": "markdown",
   "execution_count": null,
   "metadata": {},
   "source": [
    "# Model \n",
    "Сам ML"
   ]
  },
  {
   "cell_type": "code",
   "execution_count": 35,
   "metadata": {},
   "outputs": [],
   "source": [
    "# Импортируем необходимые библиотеки:\n",
    "from sklearn.ensemble import RandomForestRegressor # инструмент для создания и обучения модели\n",
    "from sklearn import metrics # инструменты для оценки точности модели"
   ]
  },
  {
   "cell_type": "code",
   "execution_count": 36,
   "metadata": {},
   "outputs": [],
   "source": [
    "# Создаём модель (НАСТРОЙКИ НЕ ТРОГАЕМ)\n",
    "model = RandomForestRegressor(n_estimators=100, verbose=1, n_jobs=-1, random_state=RANDOM_SEED)"
   ]
  },
  {
   "cell_type": "code",
   "execution_count": 37,
   "metadata": {},
   "outputs": [
    {
     "name": "stderr",
     "output_type": "stream",
     "text": [
      "[Parallel(n_jobs=-1)]: Using backend ThreadingBackend with 4 concurrent workers.\n",
      "[Parallel(n_jobs=-1)]: Done  42 tasks      | elapsed:    3.3s\n",
      "[Parallel(n_jobs=-1)]: Done 100 out of 100 | elapsed:    7.8s finished\n",
      "[Parallel(n_jobs=4)]: Using backend ThreadingBackend with 4 concurrent workers.\n",
      "[Parallel(n_jobs=4)]: Done  42 tasks      | elapsed:    0.0s\n",
      "[Parallel(n_jobs=4)]: Done 100 out of 100 | elapsed:    0.1s finished\n"
     ]
    }
   ],
   "source": [
    "# Обучаем модель на тестовом наборе данных\n",
    "model.fit(X_train, y_train)\n",
    "\n",
    "# Используем обученную модель для предсказания рейтинга ресторанов в тестовой выборке.\n",
    "# Предсказанные значения записываем в переменную y_pred\n",
    "y_pred = model.predict(X_test)"
   ]
  },
  {
   "cell_type": "code",
   "execution_count": 38,
   "metadata": {},
   "outputs": [
    {
     "name": "stdout",
     "output_type": "stream",
     "text": [
      "MAE: 0.20447625\n"
     ]
    }
   ],
   "source": [
    "# Сравниваем предсказанные значения (y_pred) с реальными (y_test), и смотрим насколько они в среднем отличаются\n",
    "# Метрика называется Mean Absolute Error (MAE) и показывает среднее отклонение предсказанных значений от фактических.\n",
    "print('MAE:', metrics.mean_absolute_error(y_test, y_pred))"
   ]
  },
  {
   "cell_type": "code",
   "execution_count": 39,
   "metadata": {},
   "outputs": [
    {
     "data": {
      "text/plain": [
       "<matplotlib.axes._subplots.AxesSubplot at 0x7f4beb1967f0>"
      ]
     },
     "execution_count": 39,
     "metadata": {},
     "output_type": "execute_result"
    },
    {
     "data": {
      "image/png": "[encoded data removed]",
      "text/plain": [
       "<Figure size 720x720 with 1 Axes>"
      ]
     },
     "metadata": {
      "needs_background": "light"
     },
     "output_type": "display_data"
    }
   ],
   "source": [
    "# в RandomForestRegressor есть возможность вывести самые важные признаки для модели\n",
    "plt.rcParams['figure.figsize'] = (10,10)\n",
    "feat_importances = pd.Series(model.feature_importances_, index=X.columns)\n",
    "feat_importances.nlargest(15).plot(kind='barh')"
   ]
  },
  {
   "cell_type": "markdown",
   "execution_count": null,
   "metadata": {},
   "source": [
    "# Submission\n",
    "Если все устраевает - готовим Submission на кагл"
   ]
  },
  {
   "cell_type": "code",
   "execution_count": 40,
   "metadata": {},
   "outputs": [],
   "source": [
    "test_data.sample(10)\n",
    "test_data = test_data.drop(['Rating'], axis=1)"
   ]
  },
  {
   "cell_type": "code",
   "execution_count": 41,
   "metadata": {},
   "outputs": [
    {
     "data": {
      "text/plain": [
       "10000"
      ]
     },
     "execution_count": 41,
     "metadata": {},
     "output_type": "execute_result"
    }
   ],
   "source": [
    "len(test_data)"
   ]
  },
  {
   "cell_type": "code",
   "execution_count": 42,
   "metadata": {},
   "outputs": [
    {
     "data": {
      "text/plain": [
       "10000"
      ]
     },
     "execution_count": 42,
     "metadata": {},
     "output_type": "execute_result"
    }
   ],
   "source": [
    "len(sample_submission)"
   ]
  },
  {
   "cell_type": "code",
   "execution_count": 43,
   "metadata": {},
   "outputs": [
    {
     "name": "stderr",
     "output_type": "stream",
     "text": [
      "[Parallel(n_jobs=4)]: Using backend ThreadingBackend with 4 concurrent workers.\n",
      "[Parallel(n_jobs=4)]: Done  42 tasks      | elapsed:    0.0s\n",
      "[Parallel(n_jobs=4)]: Done 100 out of 100 | elapsed:    0.1s finished\n"
     ]
    },
    {
     "data": {
      "text/plain": [
       "10000"
      ]
     },
     "execution_count": 43,
     "metadata": {},
     "output_type": "execute_result"
    }
   ],
   "source": [
    "predict_submission = model.predict(test_data)\n",
    "len(predict_submission)"
   ]
  },
  {
   "cell_type": "code",
   "execution_count": 44,
   "metadata": {},
   "outputs": [
    {
     "data": {
      "text/html": [
       "<div>\n",
       "<style scoped>\n",
       "    .dataframe tbody tr th:only-of-type {\n",
       "        vertical-align: middle;\n",
       "    }\n",
       "\n",
       "    .dataframe tbody tr th {\n",
       "        vertical-align: top;\n",
       "    }\n",
       "\n",
       "    .dataframe thead th {\n",
       "        text-align: right;\n",
       "    }\n",
       "</style>\n",
       "<table border=\"1\" class=\"dataframe\">\n",
       "  <thead>\n",
       "    <tr style=\"text-align: right;\">\n",
       "      <th></th>\n",
       "      <th>Restaurant_id</th>\n",
       "      <th>Rating</th>\n",
       "    </tr>\n",
       "  </thead>\n",
       "  <tbody>\n",
       "    <tr>\n",
       "      <th>0</th>\n",
       "      <td>id_0</td>\n",
       "      <td>3.010</td>\n",
       "    </tr>\n",
       "    <tr>\n",
       "      <th>1</th>\n",
       "      <td>id_1</td>\n",
       "      <td>4.345</td>\n",
       "    </tr>\n",
       "    <tr>\n",
       "      <th>2</th>\n",
       "      <td>id_2</td>\n",
       "      <td>4.205</td>\n",
       "    </tr>\n",
       "    <tr>\n",
       "      <th>3</th>\n",
       "      <td>id_3</td>\n",
       "      <td>4.445</td>\n",
       "    </tr>\n",
       "    <tr>\n",
       "      <th>4</th>\n",
       "      <td>id_4</td>\n",
       "      <td>4.295</td>\n",
       "    </tr>\n",
       "    <tr>\n",
       "      <th>5</th>\n",
       "      <td>id_5</td>\n",
       "      <td>4.430</td>\n",
       "    </tr>\n",
       "    <tr>\n",
       "      <th>6</th>\n",
       "      <td>id_6</td>\n",
       "      <td>1.955</td>\n",
       "    </tr>\n",
       "    <tr>\n",
       "      <th>7</th>\n",
       "      <td>id_7</td>\n",
       "      <td>2.075</td>\n",
       "    </tr>\n",
       "    <tr>\n",
       "      <th>8</th>\n",
       "      <td>id_8</td>\n",
       "      <td>4.160</td>\n",
       "    </tr>\n",
       "    <tr>\n",
       "      <th>9</th>\n",
       "      <td>id_9</td>\n",
       "      <td>4.555</td>\n",
       "    </tr>\n",
       "  </tbody>\n",
       "</table>\n",
       "</div>"
      ],
      "text/plain": [
       "  Restaurant_id  Rating\n",
       "0          id_0   3.010\n",
       "1          id_1   4.345\n",
       "2          id_2   4.205\n",
       "3          id_3   4.445\n",
       "4          id_4   4.295\n",
       "5          id_5   4.430\n",
       "6          id_6   1.955\n",
       "7          id_7   2.075\n",
       "8          id_8   4.160\n",
       "9          id_9   4.555"
      ]
     },
     "execution_count": 44,
     "metadata": {},
     "output_type": "execute_result"
    }
   ],
   "source": [
    "sample_submission['Rating'] = predict_submission\n",
    "sample_submission.to_csv('submission.csv', index=False)\n",
    "sample_submission.head(10)"
   ]
  },
  {
   "cell_type": "code",
   "execution_count": null,
   "metadata": {},
   "outputs": [],
   "source": []
  }
 ],
 "metadata": {
  "kernelspec": {
   "display_name": "Python 3",
   "language": "python",
   "name": "python3"
  },
  "language_info": {
   "codemirror_mode": {
    "name": "ipython",
    "version": 3
   },
   "file_extension": ".py",
   "mimetype": "text/x-python",
   "name": "python",
   "nbconvert_exporter": "python",
   "pygments_lexer": "ipython3",
   "version": "3.6.6"
  }
 },
 "nbformat": 4,
 "nbformat_minor": 4
}
