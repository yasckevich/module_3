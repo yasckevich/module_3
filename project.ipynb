{
 "cells": [
  {
   "cell_type": "code",
   "execution_count": 13,
   "metadata": {},
   "outputs": [
    {
     "name": "stdout",
     "output_type": "stream",
     "text": [
      "<class 'pandas.core.frame.DataFrame'>\n",
      "RangeIndex: 40000 entries, 0 to 39999\n",
      "Data columns (total 10 columns):\n",
      " #   Column             Non-Null Count  Dtype  \n",
      "---  ------             --------------  -----  \n",
      " 0   Restaurant_id      40000 non-null  object \n",
      " 1   City               40000 non-null  object \n",
      " 2   Cuisine_Style      30717 non-null  object \n",
      " 3   Ranking            40000 non-null  float64\n",
      " 4   Rating             40000 non-null  float64\n",
      " 5   Price_Range        26114 non-null  object \n",
      " 6   Number_of_Reviews  37457 non-null  float64\n",
      " 7   Reviews            40000 non-null  object \n",
      " 8   URL_TA             40000 non-null  object \n",
      " 9   ID_TA              40000 non-null  object \n",
      "dtypes: float64(3), object(7)\n",
      "memory usage: 3.1+ MB\n"
     ]
    }
   ],
   "source": [
    "import pandas as pd\n",
    "import matplotlib.pyplot as plt\n",
    "import seaborn as sns\n",
    "from itertools import combinations\n",
    "from scipy.stats import ttest_ind\n",
    "\n",
    "base = pd.read_csv('main_task.csv')\n",
    "\n",
    "col = ['Restaurant_id', 'City', 'Cuisine_Style', 'Ranking',\n",
    "       'Rating', 'Price_Range', 'Number_of_Reviews', 'Reviews', 'URL_TA', 'ID_TA']\n",
    "base.columns = col\n",
    "#переименовали столбы для удобства\n",
    "\n",
    "#base=base.drop(index=[9446])\n",
    "#удалили строчку, состоящую полностью из ошибок\n",
    "\n",
    "base.info()"
   ]
  },
  {
   "cell_type": "code",
   "execution_count": 14,
   "metadata": {},
   "outputs": [
    {
     "data": {
      "text/plain": [
       "40000"
      ]
     },
     "execution_count": 14,
     "metadata": {},
     "output_type": "execute_result"
    }
   ],
   "source": [
    "# проверяем столбец с Restaurant_id (идентификационный номер ресторана / сети ресторанов)\n",
    "\n",
    "base.Restaurant_id.value_counts()\n",
    "# пропусков нет, все ок\n",
    "base.Restaurant_id.describe()\n",
    "# по условию - в одному id  могут быть прикреплены несколько ресторанов одной сети,\n",
    "# поэтому уникальных значений меньше чем записей\n",
    "len(base.Restaurant_id)\n",
    "\n",
    "# аномалий нет"
   ]
  },
  {
   "cell_type": "code",
   "execution_count": 15,
   "metadata": {},
   "outputs": [
    {
     "data": {
      "text/plain": [
       "40000"
      ]
     },
     "execution_count": 15,
     "metadata": {},
     "output_type": "execute_result"
    }
   ],
   "source": [
    "# проверяем столбец с City (город, в котором находится ресторан)\n",
    "\n",
    "base.City.value_counts()\n",
    "len(base.City)\n",
    "# пропусков нет, города не повторяются, проблем с ракладкой или регистром нет, все ок\n",
    "\n",
    "# аномалий нет"
   ]
  },
  {
   "cell_type": "code",
   "execution_count": 16,
   "metadata": {},
   "outputs": [
    {
     "data": {
      "text/plain": [
       "40000"
      ]
     },
     "execution_count": 16,
     "metadata": {},
     "output_type": "execute_result"
    }
   ],
   "source": [
    "# проверяем столбец с Cuisine_Style (кухня или кухни, к которым можно отнести блюда, предлагаемые в ресторане)\n",
    "\n",
    "base['Cuisine_Style'] = base['Cuisine_Style'].fillna('\"\"No_info\"')\n",
    "# заменяем пропуски\n",
    "\n",
    "new = pd.DataFrame(base.Cuisine_Style.dropna())\n",
    "a = list(new.Cuisine_Style)\n",
    "b = list()\n",
    "\n",
    "\n",
    "def l(x):\n",
    "    i = 0\n",
    "    for g in x:\n",
    "        f = x[i].split(',')\n",
    "        v = 0\n",
    "        for g in f:\n",
    "            h = f[v][2:-1].replace(\"'\", '')\n",
    "            v = +1\n",
    "            b.append(h)\n",
    "        i += 1\n",
    "\n",
    "\n",
    "l(a)\n",
    "b = set(b)\n",
    "b = list(b)\n",
    "# нашли список уникальных значений кухонь\n",
    "\n",
    "\n",
    "def find_item(cell):\n",
    "    if item in cell:\n",
    "        return 1\n",
    "    return 0\n",
    "\n",
    "\n",
    "for item in b:\n",
    "    base[item] = base['Cuisine_Style'].apply(find_item)\n",
    "\n",
    "base['Cuisine_Style'] = base['Cuisine_Style'].apply(lambda x: len(x))\n",
    "\n",
    "len(base['Cuisine_Style'])\n",
    "# пропуски заменены, строки преобразованы в столбцы"
   ]
  },
  {
   "cell_type": "code",
   "execution_count": 5,
   "metadata": {
    "scrolled": true
   },
   "outputs": [
    {
     "data": {
      "text/plain": [
       "40000"
      ]
     },
     "execution_count": 5,
     "metadata": {},
     "output_type": "execute_result"
    }
   ],
   "source": [
    "# проверяем столбец с Price_Range (диапазон цен в ресторане)\n",
    "\n",
    "base['Price_Range'] = base['Price_Range'].fillna('No_info')\n",
    "len(base['Price_Range'])\n",
    "\n",
    "# меняем пропуски на Not_info"
   ]
  },
  {
   "cell_type": "code",
   "execution_count": 27,
   "metadata": {},
   "outputs": [
    {
     "data": {
      "text/plain": [
       "40000"
      ]
     },
     "execution_count": 27,
     "metadata": {},
     "output_type": "execute_result"
    }
   ],
   "source": [
    "# проверяем столбец с Reviews (данные о двух отзывах, которые отображаются на сайте ресторана)\n",
    "\n",
    "base['Reviews']=base.Reviews.replace(\"[[], []]\", 'No_info')\n",
    "len(base.Reviews)\n",
    "\n",
    "# меняем пропуски на Not_info"
   ]
  },
  {
   "cell_type": "code",
   "execution_count": 28,
   "metadata": {
    "scrolled": false
   },
   "outputs": [
    {
     "name": "stderr",
     "output_type": "stream",
     "text": [
      "/Users/yasckevich/opt/anaconda3/lib/python3.7/site-packages/ipykernel_launcher.py:13: SettingWithCopyWarning: \n",
      "A value is trying to be set on a copy of a slice from a DataFrame\n",
      "\n",
      "See the caveats in the documentation: https://pandas.pydata.org/pandas-docs/stable/user_guide/indexing.html#returning-a-view-versus-a-copy\n",
      "  del sys.path[0]\n"
     ]
    },
    {
     "data": {
      "text/plain": [
       "40000"
      ]
     },
     "execution_count": 28,
     "metadata": {},
     "output_type": "execute_result"
    }
   ],
   "source": [
    "# проверяем столбец с Number_of_Reviews (количество отзывов о ресторане)\n",
    "base['Number_of_Reviews'].describe()\n",
    "# отрицательных чисел нет\n",
    "\n",
    "base['Number_of_Reviews'].value_counts()\n",
    "# но есть пропуски, нужно проверить, что где есть пропуски - там действительно нет отзывов\n",
    "\n",
    "base['Number_of_Reviews'] = base['Number_of_Reviews'].fillna('No_info')\n",
    "# меняем пропуски на Not_info\n",
    "\n",
    "a=base.query('Reviews == \"No_info\" & Number_of_Reviews == \"No_info\"')\n",
    "b=list(a.index)\n",
    "base['Number_of_Reviews'][b]=0\n",
    "# где нет значения кол-ва отзывов и превью отзывов - ставим 0\n",
    "\n",
    "len(base['Number_of_Reviews'])\n",
    "# заменили предполагаемые пропуски, в некоторые смогли подставить значения. С 2,5+ тысяч снизили пропуски до 900+"
   ]
  },
  {
   "cell_type": "code",
   "execution_count": 8,
   "metadata": {},
   "outputs": [
    {
     "data": {
      "text/plain": [
       "/Restaurant_Review-g187323-d6387209-Reviews-Su_Korean_BBQ-Berlin.html                        1\n",
       "/Restaurant_Review-g187791-d3337115-Reviews-Cucina_Casereccia_da_Marcello-Rome_Lazio.html    1\n",
       "/Restaurant_Review-g187514-d10404717-Reviews-Sota_Caballo_Rey-Madrid.html                    1\n",
       "/Restaurant_Review-g187323-d8397770-Reviews-Fratelli_Da_Giovanni-Berlin.html                 1\n",
       "/Restaurant_Review-g187147-d719440-Reviews-Le_Tabarin-Paris_Ile_de_France.html               1\n",
       "                                                                                            ..\n",
       "/Restaurant_Review-g187309-d7047665-Reviews-IceDate-Munich_Upper_Bavaria_Bavaria.html        1\n",
       "/Restaurant_Review-g186338-d7741223-Reviews-Made_in_South_Pizzeria-London_England.html       1\n",
       "/Restaurant_Review-g187514-d9609663-Reviews-El_Murciano_Sirod-Madrid.html                    1\n",
       "/Restaurant_Review-g187147-d718162-Reviews-L_Epicerie-Paris_Ile_de_France.html               1\n",
       "/Restaurant_Review-g187791-d12481595-Reviews-Finger_s_Roma-Rome_Lazio.html                   1\n",
       "Name: URL_TA, Length: 39980, dtype: int64"
      ]
     },
     "execution_count": 8,
     "metadata": {},
     "output_type": "execute_result"
    }
   ],
   "source": [
    "# проверяем м столбец с URL_TA (URL страницы ресторана на TripAdvosor)\n",
    "\n",
    "base['URL_TA'].value_counts()\n",
    "\n",
    "# очень странно, что сслылки повторяются\n",
    "# посмотрим что с ними на примере одного ресторана\n",
    "base.query(\n",
    "    'URL_TA == \"/Restaurant_Review-g187514-d697406-Reviews-Al_Mounia-Madrid.html\"')\n",
    "# совпадают 8 столбцов из 10 основных\n",
    "\n",
    "# удалим дубликаты по стобцам сайт, ID на сайте, город, кол-во отзывов, кухни и средний чек\n",
    "base = base.drop_duplicates(\n",
    "    subset=['City', 'Reviews', 'URL_TA', 'ID_TA', 'Cuisine_Style', 'Price_Range'])\n",
    "\n",
    "base['URL_TA'].value_counts()\n",
    "\n",
    "# дубликаты удалены"
   ]
  },
  {
   "cell_type": "code",
   "execution_count": 9,
   "metadata": {},
   "outputs": [
    {
     "data": {
      "text/plain": [
       "d3707258     1\n",
       "d998025      1\n",
       "d3777421     1\n",
       "d7156311     1\n",
       "d4129783     1\n",
       "            ..\n",
       "d5122124     1\n",
       "d11832263    1\n",
       "d10171093    1\n",
       "d10202812    1\n",
       "d5518627     1\n",
       "Name: ID_TA, Length: 39980, dtype: int64"
      ]
     },
     "execution_count": 9,
     "metadata": {},
     "output_type": "execute_result"
    }
   ],
   "source": [
    "# проверяем м столбец с ID_TA (идентификатор ресторана в базе данных TripAdvisor)\n",
    "\n",
    "base['ID_TA'].value_counts()\n",
    "\n",
    "# так как в предыдущем шаге мы удалили все дубликаты, то в этом у нас все ок"
   ]
  },
  {
   "cell_type": "code",
   "execution_count": 10,
   "metadata": {},
   "outputs": [
    {
     "name": "stdout",
     "output_type": "stream",
     "text": [
      "<class 'pandas.core.frame.DataFrame'>\n",
      "Int64Index: 39980 entries, 0 to 39999\n",
      "Data columns (total 10 columns):\n",
      " #   Column             Non-Null Count  Dtype  \n",
      "---  ------             --------------  -----  \n",
      " 0   Restaurant_id      39980 non-null  object \n",
      " 1   City               39980 non-null  object \n",
      " 2   Cuisine_Style      39980 non-null  int64  \n",
      " 3   Ranking            39980 non-null  float64\n",
      " 4   Rating             39980 non-null  float64\n",
      " 5   Price_Range        39980 non-null  object \n",
      " 6   Number_of_Reviews  39980 non-null  object \n",
      " 7   Reviews            39980 non-null  object \n",
      " 8   URL_TA             39980 non-null  object \n",
      " 9   ID_TA              39980 non-null  object \n",
      "dtypes: float64(2), int64(1), object(7)\n",
      "memory usage: 3.4+ MB\n"
     ]
    }
   ],
   "source": [
    "df = base.loc[:, col]\n",
    "df.info()"
   ]
  },
  {
   "cell_type": "code",
   "execution_count": null,
   "metadata": {},
   "outputs": [],
   "source": []
  }
 ],
 "metadata": {
  "kernelspec": {
   "display_name": "Python 3",
   "language": "python",
   "name": "python3"
  },
  "language_info": {
   "codemirror_mode": {
    "name": "ipython",
    "version": 3
   },
   "file_extension": ".py",
   "mimetype": "text/x-python",
   "name": "python",
   "nbconvert_exporter": "python",
   "pygments_lexer": "ipython3",
   "version": "3.7.6"
  }
 },
 "nbformat": 4,
 "nbformat_minor": 4
}
